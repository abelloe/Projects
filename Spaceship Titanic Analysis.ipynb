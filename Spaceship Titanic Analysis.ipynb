{
 "cells": [
  {
   "cell_type": "code",
   "execution_count": 1,
   "id": "6b44db7d",
   "metadata": {},
   "outputs": [],
   "source": [
    "# import libraries\n",
    "import pandas as pd \n",
    "import numpy as np\n",
    "import matplotlib.pyplot as plt\n",
    "import seaborn as sns\n",
    "from sklearn.preprocessing import StandardScaler\n",
    "from sklearn.model_selection import train_test_split\n",
    "from sklearn.ensemble import RandomForestClassifier\n",
    "from sklearn.metrics import accuracy_score"
   ]
  },
  {
   "cell_type": "code",
   "execution_count": 2,
   "id": "21b52fa9",
   "metadata": {},
   "outputs": [],
   "source": [
    "# importing the train dataset into pandas DataFrame\n",
    "space_df = pd.read_csv('train.csv')"
   ]
  },
  {
   "cell_type": "code",
   "execution_count": 3,
   "id": "99b63403",
   "metadata": {},
   "outputs": [
    {
     "data": {
      "text/html": [
       "<div>\n",
       "<style scoped>\n",
       "    .dataframe tbody tr th:only-of-type {\n",
       "        vertical-align: middle;\n",
       "    }\n",
       "\n",
       "    .dataframe tbody tr th {\n",
       "        vertical-align: top;\n",
       "    }\n",
       "\n",
       "    .dataframe thead th {\n",
       "        text-align: right;\n",
       "    }\n",
       "</style>\n",
       "<table border=\"1\" class=\"dataframe\">\n",
       "  <thead>\n",
       "    <tr style=\"text-align: right;\">\n",
       "      <th></th>\n",
       "      <th>PassengerId</th>\n",
       "      <th>HomePlanet</th>\n",
       "      <th>CryoSleep</th>\n",
       "      <th>Cabin</th>\n",
       "      <th>Destination</th>\n",
       "      <th>Age</th>\n",
       "      <th>VIP</th>\n",
       "      <th>RoomService</th>\n",
       "      <th>FoodCourt</th>\n",
       "      <th>ShoppingMall</th>\n",
       "      <th>Spa</th>\n",
       "      <th>VRDeck</th>\n",
       "      <th>Name</th>\n",
       "      <th>Transported</th>\n",
       "    </tr>\n",
       "  </thead>\n",
       "  <tbody>\n",
       "    <tr>\n",
       "      <th>0</th>\n",
       "      <td>0001_01</td>\n",
       "      <td>Europa</td>\n",
       "      <td>False</td>\n",
       "      <td>B/0/P</td>\n",
       "      <td>TRAPPIST-1e</td>\n",
       "      <td>39.0</td>\n",
       "      <td>False</td>\n",
       "      <td>0.0</td>\n",
       "      <td>0.0</td>\n",
       "      <td>0.0</td>\n",
       "      <td>0.0</td>\n",
       "      <td>0.0</td>\n",
       "      <td>Maham Ofracculy</td>\n",
       "      <td>False</td>\n",
       "    </tr>\n",
       "    <tr>\n",
       "      <th>1</th>\n",
       "      <td>0002_01</td>\n",
       "      <td>Earth</td>\n",
       "      <td>False</td>\n",
       "      <td>F/0/S</td>\n",
       "      <td>TRAPPIST-1e</td>\n",
       "      <td>24.0</td>\n",
       "      <td>False</td>\n",
       "      <td>109.0</td>\n",
       "      <td>9.0</td>\n",
       "      <td>25.0</td>\n",
       "      <td>549.0</td>\n",
       "      <td>44.0</td>\n",
       "      <td>Juanna Vines</td>\n",
       "      <td>True</td>\n",
       "    </tr>\n",
       "    <tr>\n",
       "      <th>2</th>\n",
       "      <td>0003_01</td>\n",
       "      <td>Europa</td>\n",
       "      <td>False</td>\n",
       "      <td>A/0/S</td>\n",
       "      <td>TRAPPIST-1e</td>\n",
       "      <td>58.0</td>\n",
       "      <td>True</td>\n",
       "      <td>43.0</td>\n",
       "      <td>3576.0</td>\n",
       "      <td>0.0</td>\n",
       "      <td>6715.0</td>\n",
       "      <td>49.0</td>\n",
       "      <td>Altark Susent</td>\n",
       "      <td>False</td>\n",
       "    </tr>\n",
       "    <tr>\n",
       "      <th>3</th>\n",
       "      <td>0003_02</td>\n",
       "      <td>Europa</td>\n",
       "      <td>False</td>\n",
       "      <td>A/0/S</td>\n",
       "      <td>TRAPPIST-1e</td>\n",
       "      <td>33.0</td>\n",
       "      <td>False</td>\n",
       "      <td>0.0</td>\n",
       "      <td>1283.0</td>\n",
       "      <td>371.0</td>\n",
       "      <td>3329.0</td>\n",
       "      <td>193.0</td>\n",
       "      <td>Solam Susent</td>\n",
       "      <td>False</td>\n",
       "    </tr>\n",
       "    <tr>\n",
       "      <th>4</th>\n",
       "      <td>0004_01</td>\n",
       "      <td>Earth</td>\n",
       "      <td>False</td>\n",
       "      <td>F/1/S</td>\n",
       "      <td>TRAPPIST-1e</td>\n",
       "      <td>16.0</td>\n",
       "      <td>False</td>\n",
       "      <td>303.0</td>\n",
       "      <td>70.0</td>\n",
       "      <td>151.0</td>\n",
       "      <td>565.0</td>\n",
       "      <td>2.0</td>\n",
       "      <td>Willy Santantines</td>\n",
       "      <td>True</td>\n",
       "    </tr>\n",
       "  </tbody>\n",
       "</table>\n",
       "</div>"
      ],
      "text/plain": [
       "  PassengerId HomePlanet CryoSleep  Cabin  Destination   Age    VIP  \\\n",
       "0     0001_01     Europa     False  B/0/P  TRAPPIST-1e  39.0  False   \n",
       "1     0002_01      Earth     False  F/0/S  TRAPPIST-1e  24.0  False   \n",
       "2     0003_01     Europa     False  A/0/S  TRAPPIST-1e  58.0   True   \n",
       "3     0003_02     Europa     False  A/0/S  TRAPPIST-1e  33.0  False   \n",
       "4     0004_01      Earth     False  F/1/S  TRAPPIST-1e  16.0  False   \n",
       "\n",
       "   RoomService  FoodCourt  ShoppingMall     Spa  VRDeck               Name  \\\n",
       "0          0.0        0.0           0.0     0.0     0.0    Maham Ofracculy   \n",
       "1        109.0        9.0          25.0   549.0    44.0       Juanna Vines   \n",
       "2         43.0     3576.0           0.0  6715.0    49.0      Altark Susent   \n",
       "3          0.0     1283.0         371.0  3329.0   193.0       Solam Susent   \n",
       "4        303.0       70.0         151.0   565.0     2.0  Willy Santantines   \n",
       "\n",
       "   Transported  \n",
       "0        False  \n",
       "1         True  \n",
       "2        False  \n",
       "3        False  \n",
       "4         True  "
      ]
     },
     "execution_count": 3,
     "metadata": {},
     "output_type": "execute_result"
    }
   ],
   "source": [
    "# Viewing the first 5 rows of the ataset\n",
    "space_df.head()"
   ]
  },
  {
   "cell_type": "code",
   "execution_count": 4,
   "id": "29acb6d9",
   "metadata": {},
   "outputs": [
    {
     "data": {
      "text/plain": [
       "(8693, 14)"
      ]
     },
     "execution_count": 4,
     "metadata": {},
     "output_type": "execute_result"
    }
   ],
   "source": [
    "# Obtaining information about the dataset\n",
    "space_df.shape"
   ]
  },
  {
   "cell_type": "markdown",
   "id": "dd05f9ef",
   "metadata": {},
   "source": [
    "There are 8693 rows and 14 columns in the dataset"
   ]
  },
  {
   "cell_type": "code",
   "execution_count": 5,
   "id": "97b79520",
   "metadata": {},
   "outputs": [
    {
     "data": {
      "text/html": [
       "<div>\n",
       "<style scoped>\n",
       "    .dataframe tbody tr th:only-of-type {\n",
       "        vertical-align: middle;\n",
       "    }\n",
       "\n",
       "    .dataframe tbody tr th {\n",
       "        vertical-align: top;\n",
       "    }\n",
       "\n",
       "    .dataframe thead th {\n",
       "        text-align: right;\n",
       "    }\n",
       "</style>\n",
       "<table border=\"1\" class=\"dataframe\">\n",
       "  <thead>\n",
       "    <tr style=\"text-align: right;\">\n",
       "      <th></th>\n",
       "      <th>Age</th>\n",
       "      <th>RoomService</th>\n",
       "      <th>FoodCourt</th>\n",
       "      <th>ShoppingMall</th>\n",
       "      <th>Spa</th>\n",
       "      <th>VRDeck</th>\n",
       "    </tr>\n",
       "  </thead>\n",
       "  <tbody>\n",
       "    <tr>\n",
       "      <th>count</th>\n",
       "      <td>8514.000000</td>\n",
       "      <td>8512.000000</td>\n",
       "      <td>8510.000000</td>\n",
       "      <td>8485.000000</td>\n",
       "      <td>8510.000000</td>\n",
       "      <td>8505.000000</td>\n",
       "    </tr>\n",
       "    <tr>\n",
       "      <th>mean</th>\n",
       "      <td>28.827930</td>\n",
       "      <td>224.687617</td>\n",
       "      <td>458.077203</td>\n",
       "      <td>173.729169</td>\n",
       "      <td>311.138778</td>\n",
       "      <td>304.854791</td>\n",
       "    </tr>\n",
       "    <tr>\n",
       "      <th>std</th>\n",
       "      <td>14.489021</td>\n",
       "      <td>666.717663</td>\n",
       "      <td>1611.489240</td>\n",
       "      <td>604.696458</td>\n",
       "      <td>1136.705535</td>\n",
       "      <td>1145.717189</td>\n",
       "    </tr>\n",
       "    <tr>\n",
       "      <th>min</th>\n",
       "      <td>0.000000</td>\n",
       "      <td>0.000000</td>\n",
       "      <td>0.000000</td>\n",
       "      <td>0.000000</td>\n",
       "      <td>0.000000</td>\n",
       "      <td>0.000000</td>\n",
       "    </tr>\n",
       "    <tr>\n",
       "      <th>25%</th>\n",
       "      <td>19.000000</td>\n",
       "      <td>0.000000</td>\n",
       "      <td>0.000000</td>\n",
       "      <td>0.000000</td>\n",
       "      <td>0.000000</td>\n",
       "      <td>0.000000</td>\n",
       "    </tr>\n",
       "    <tr>\n",
       "      <th>50%</th>\n",
       "      <td>27.000000</td>\n",
       "      <td>0.000000</td>\n",
       "      <td>0.000000</td>\n",
       "      <td>0.000000</td>\n",
       "      <td>0.000000</td>\n",
       "      <td>0.000000</td>\n",
       "    </tr>\n",
       "    <tr>\n",
       "      <th>75%</th>\n",
       "      <td>38.000000</td>\n",
       "      <td>47.000000</td>\n",
       "      <td>76.000000</td>\n",
       "      <td>27.000000</td>\n",
       "      <td>59.000000</td>\n",
       "      <td>46.000000</td>\n",
       "    </tr>\n",
       "    <tr>\n",
       "      <th>max</th>\n",
       "      <td>79.000000</td>\n",
       "      <td>14327.000000</td>\n",
       "      <td>29813.000000</td>\n",
       "      <td>23492.000000</td>\n",
       "      <td>22408.000000</td>\n",
       "      <td>24133.000000</td>\n",
       "    </tr>\n",
       "  </tbody>\n",
       "</table>\n",
       "</div>"
      ],
      "text/plain": [
       "               Age   RoomService     FoodCourt  ShoppingMall           Spa  \\\n",
       "count  8514.000000   8512.000000   8510.000000   8485.000000   8510.000000   \n",
       "mean     28.827930    224.687617    458.077203    173.729169    311.138778   \n",
       "std      14.489021    666.717663   1611.489240    604.696458   1136.705535   \n",
       "min       0.000000      0.000000      0.000000      0.000000      0.000000   \n",
       "25%      19.000000      0.000000      0.000000      0.000000      0.000000   \n",
       "50%      27.000000      0.000000      0.000000      0.000000      0.000000   \n",
       "75%      38.000000     47.000000     76.000000     27.000000     59.000000   \n",
       "max      79.000000  14327.000000  29813.000000  23492.000000  22408.000000   \n",
       "\n",
       "             VRDeck  \n",
       "count   8505.000000  \n",
       "mean     304.854791  \n",
       "std     1145.717189  \n",
       "min        0.000000  \n",
       "25%        0.000000  \n",
       "50%        0.000000  \n",
       "75%       46.000000  \n",
       "max    24133.000000  "
      ]
     },
     "execution_count": 5,
     "metadata": {},
     "output_type": "execute_result"
    }
   ],
   "source": [
    "# Obtaining information about the dataset\n",
    "space_df.describe()"
   ]
  },
  {
   "cell_type": "code",
   "execution_count": 6,
   "id": "1c6f3e73",
   "metadata": {
    "scrolled": true
   },
   "outputs": [
    {
     "name": "stdout",
     "output_type": "stream",
     "text": [
      "<class 'pandas.core.frame.DataFrame'>\n",
      "RangeIndex: 8693 entries, 0 to 8692\n",
      "Data columns (total 14 columns):\n",
      " #   Column        Non-Null Count  Dtype  \n",
      "---  ------        --------------  -----  \n",
      " 0   PassengerId   8693 non-null   object \n",
      " 1   HomePlanet    8492 non-null   object \n",
      " 2   CryoSleep     8476 non-null   object \n",
      " 3   Cabin         8494 non-null   object \n",
      " 4   Destination   8511 non-null   object \n",
      " 5   Age           8514 non-null   float64\n",
      " 6   VIP           8490 non-null   object \n",
      " 7   RoomService   8512 non-null   float64\n",
      " 8   FoodCourt     8510 non-null   float64\n",
      " 9   ShoppingMall  8485 non-null   float64\n",
      " 10  Spa           8510 non-null   float64\n",
      " 11  VRDeck        8505 non-null   float64\n",
      " 12  Name          8493 non-null   object \n",
      " 13  Transported   8693 non-null   bool   \n",
      "dtypes: bool(1), float64(6), object(7)\n",
      "memory usage: 891.5+ KB\n"
     ]
    }
   ],
   "source": [
    "# Obtaining information about the dataset\n",
    "space_df.info()"
   ]
  },
  {
   "cell_type": "markdown",
   "id": "cfc83647",
   "metadata": {},
   "source": [
    "All other columns contain null values with the exception of the PassengerId column. Hence, the data must be cleaned"
   ]
  },
  {
   "cell_type": "markdown",
   "id": "1e4a8515",
   "metadata": {},
   "source": [
    "# UNIVARIATE ANALYSIS"
   ]
  },
  {
   "cell_type": "markdown",
   "id": "b3fde35f",
   "metadata": {},
   "source": [
    "# PassengerId"
   ]
  },
  {
   "cell_type": "code",
   "execution_count": 7,
   "id": "e646b051",
   "metadata": {},
   "outputs": [
    {
     "data": {
      "text/plain": [
       "0001_01    1\n",
       "6136_01    1\n",
       "6141_01    1\n",
       "6139_06    1\n",
       "6139_05    1\n",
       "          ..\n",
       "3126_01    1\n",
       "3124_03    1\n",
       "3124_02    1\n",
       "3124_01    1\n",
       "9280_02    1\n",
       "Name: PassengerId, Length: 8693, dtype: int64"
      ]
     },
     "execution_count": 7,
     "metadata": {},
     "output_type": "execute_result"
    }
   ],
   "source": [
    "# Viewing the passengerId column\n",
    "space_df['PassengerId'].value_counts()"
   ]
  },
  {
   "cell_type": "markdown",
   "id": "22babd26",
   "metadata": {},
   "source": [
    "Every passenger has a unique Id."
   ]
  },
  {
   "cell_type": "markdown",
   "id": "0d6f17ad",
   "metadata": {},
   "source": [
    "## HomePlanet"
   ]
  },
  {
   "cell_type": "code",
   "execution_count": 8,
   "id": "78f25050",
   "metadata": {
    "scrolled": true
   },
   "outputs": [
    {
     "data": {
      "text/plain": [
       "array(['Europa', 'Earth', 'Mars', nan], dtype=object)"
      ]
     },
     "execution_count": 8,
     "metadata": {},
     "output_type": "execute_result"
    }
   ],
   "source": [
    "# Viewing the HomePlanet column\n",
    "space_df['HomePlanet'].unique()"
   ]
  },
  {
   "cell_type": "code",
   "execution_count": 9,
   "id": "f210b655",
   "metadata": {},
   "outputs": [],
   "source": [
    "# filling null values in the Home Planet column with 'Earth' since it appears the most\n",
    "space_df['HomePlanet'] = space_df['HomePlanet'].fillna('Earth')"
   ]
  },
  {
   "cell_type": "code",
   "execution_count": 10,
   "id": "0562364e",
   "metadata": {
    "scrolled": true
   },
   "outputs": [
    {
     "data": {
      "text/plain": [
       "Earth     4803\n",
       "Europa    2131\n",
       "Mars      1759\n",
       "Name: HomePlanet, dtype: int64"
      ]
     },
     "execution_count": 10,
     "metadata": {},
     "output_type": "execute_result"
    }
   ],
   "source": [
    "# Viewing the HomePlanet column\n",
    "space_df['HomePlanet'].value_counts()"
   ]
  },
  {
   "cell_type": "code",
   "execution_count": 11,
   "id": "346f56fd",
   "metadata": {},
   "outputs": [
    {
     "data": {
      "image/png": "[encoded data removed]",
      "text/plain": [
       "<Figure size 432x288 with 1 Axes>"
      ]
     },
     "metadata": {
      "needs_background": "light"
     },
     "output_type": "display_data"
    }
   ],
   "source": [
    "# Plotting a bar chart of the HomePlanet column\n",
    "space_df['HomePlanet'].value_counts().plot(kind='bar', color=['r', 'b', 'g'])\n",
    "plt.title('A plot of the Home Planet of passengers')\n",
    "plt.xlabel('Planet Name')\n",
    "plt.ylabel('Number of Passengers')\n",
    "plt.grid()\n",
    "plt.show()"
   ]
  },
  {
   "cell_type": "markdown",
   "id": "18f404ad",
   "metadata": {},
   "source": [
    "Most of the passengers(4803) departed from Earth. 2131 departed from Europa and 1759 departed from Mars."
   ]
  },
  {
   "cell_type": "markdown",
   "id": "9b50d053",
   "metadata": {},
   "source": [
    "## CryoSleep"
   ]
  },
  {
   "cell_type": "code",
   "execution_count": 12,
   "id": "848e6b2a",
   "metadata": {},
   "outputs": [
    {
     "data": {
      "text/plain": [
       "array([False, True, nan], dtype=object)"
      ]
     },
     "execution_count": 12,
     "metadata": {},
     "output_type": "execute_result"
    }
   ],
   "source": [
    "# viewing the categories under the crosleep column\n",
    "space_df['CryoSleep'].unique()"
   ]
  },
  {
   "cell_type": "code",
   "execution_count": 13,
   "id": "dafdaf72",
   "metadata": {},
   "outputs": [
    {
     "data": {
      "text/plain": [
       "False    5439\n",
       "True     3037\n",
       "Name: CryoSleep, dtype: int64"
      ]
     },
     "execution_count": 13,
     "metadata": {},
     "output_type": "execute_result"
    }
   ],
   "source": [
    "# Determining the number of times each bool occurs\n",
    "space_df['CryoSleep'].value_counts()"
   ]
  },
  {
   "cell_type": "code",
   "execution_count": 14,
   "id": "44ab10e0",
   "metadata": {},
   "outputs": [],
   "source": [
    "# replace null values with False\n",
    "space_df['CryoSleep'] = space_df['CryoSleep'].fillna(False)"
   ]
  },
  {
   "cell_type": "code",
   "execution_count": 15,
   "id": "4de3f458",
   "metadata": {
    "scrolled": true
   },
   "outputs": [
    {
     "data": {
      "image/png": "[encoded data removed]",
      "text/plain": [
       "<Figure size 432x288 with 1 Axes>"
      ]
     },
     "metadata": {
      "needs_background": "light"
     },
     "output_type": "display_data"
    }
   ],
   "source": [
    "# Plotting a bar chart of the CryoSleep column\n",
    "space_df['CryoSleep'].value_counts().plot(kind='bar', color=['g', 'b', 'y'])\n",
    "plt.title('A plot of the CryoSleep Column')\n",
    "plt.xlabel('TRUE/FALSE')\n",
    "plt.ylabel('Number of Passengers')\n",
    "plt.grid()\n",
    "plt.show()"
   ]
  },
  {
   "cell_type": "markdown",
   "id": "301e621a",
   "metadata": {},
   "source": [
    "Only about 3000 passengers elected to be put into the suspended animation for the duration of the voyage."
   ]
  },
  {
   "cell_type": "markdown",
   "id": "af95e925",
   "metadata": {},
   "source": [
    "## Cabin"
   ]
  },
  {
   "cell_type": "code",
   "execution_count": 16,
   "id": "2321d2c8",
   "metadata": {},
   "outputs": [
    {
     "data": {
      "text/plain": [
       "array(['B/0/P', 'F/0/S', 'A/0/S', ..., 'G/1499/S', 'G/1500/S', 'E/608/S'],\n",
       "      dtype=object)"
      ]
     },
     "execution_count": 16,
     "metadata": {},
     "output_type": "execute_result"
    }
   ],
   "source": [
    "# viewing the items under the Cabin column\n",
    "space_df['Cabin'].unique()"
   ]
  },
  {
   "cell_type": "code",
   "execution_count": 17,
   "id": "c036f94f",
   "metadata": {
    "scrolled": true
   },
   "outputs": [
    {
     "data": {
      "text/plain": [
       "G/734/S     8\n",
       "G/109/P     7\n",
       "B/201/P     7\n",
       "G/1368/P    7\n",
       "G/981/S     7\n",
       "           ..\n",
       "G/556/P     1\n",
       "E/231/S     1\n",
       "G/545/S     1\n",
       "G/543/S     1\n",
       "F/947/P     1\n",
       "Name: Cabin, Length: 6560, dtype: int64"
      ]
     },
     "execution_count": 17,
     "metadata": {},
     "output_type": "execute_result"
    }
   ],
   "source": [
    "# viewing the individual items under the Cabin column\n",
    "space_df['Cabin'].value_counts()"
   ]
  },
  {
   "cell_type": "markdown",
   "id": "957c3e08",
   "metadata": {},
   "source": [
    "More than one person was housed in a cabin"
   ]
  },
  {
   "cell_type": "code",
   "execution_count": 18,
   "id": "678c61da",
   "metadata": {},
   "outputs": [
    {
     "data": {
      "text/html": [
       "<div>\n",
       "<style scoped>\n",
       "    .dataframe tbody tr th:only-of-type {\n",
       "        vertical-align: middle;\n",
       "    }\n",
       "\n",
       "    .dataframe tbody tr th {\n",
       "        vertical-align: top;\n",
       "    }\n",
       "\n",
       "    .dataframe thead th {\n",
       "        text-align: right;\n",
       "    }\n",
       "</style>\n",
       "<table border=\"1\" class=\"dataframe\">\n",
       "  <thead>\n",
       "    <tr style=\"text-align: right;\">\n",
       "      <th></th>\n",
       "      <th>PassengerId</th>\n",
       "      <th>HomePlanet</th>\n",
       "      <th>CryoSleep</th>\n",
       "      <th>Destination</th>\n",
       "      <th>Age</th>\n",
       "      <th>VIP</th>\n",
       "      <th>RoomService</th>\n",
       "      <th>FoodCourt</th>\n",
       "      <th>ShoppingMall</th>\n",
       "      <th>Spa</th>\n",
       "      <th>VRDeck</th>\n",
       "      <th>Name</th>\n",
       "      <th>Transported</th>\n",
       "      <th>Deck</th>\n",
       "      <th>Cabin_num</th>\n",
       "      <th>Side</th>\n",
       "    </tr>\n",
       "  </thead>\n",
       "  <tbody>\n",
       "    <tr>\n",
       "      <th>0</th>\n",
       "      <td>0001_01</td>\n",
       "      <td>Europa</td>\n",
       "      <td>False</td>\n",
       "      <td>TRAPPIST-1e</td>\n",
       "      <td>39.0</td>\n",
       "      <td>False</td>\n",
       "      <td>0.0</td>\n",
       "      <td>0.0</td>\n",
       "      <td>0.0</td>\n",
       "      <td>0.0</td>\n",
       "      <td>0.0</td>\n",
       "      <td>Maham Ofracculy</td>\n",
       "      <td>False</td>\n",
       "      <td>B</td>\n",
       "      <td>0</td>\n",
       "      <td>P</td>\n",
       "    </tr>\n",
       "    <tr>\n",
       "      <th>1</th>\n",
       "      <td>0002_01</td>\n",
       "      <td>Earth</td>\n",
       "      <td>False</td>\n",
       "      <td>TRAPPIST-1e</td>\n",
       "      <td>24.0</td>\n",
       "      <td>False</td>\n",
       "      <td>109.0</td>\n",
       "      <td>9.0</td>\n",
       "      <td>25.0</td>\n",
       "      <td>549.0</td>\n",
       "      <td>44.0</td>\n",
       "      <td>Juanna Vines</td>\n",
       "      <td>True</td>\n",
       "      <td>F</td>\n",
       "      <td>0</td>\n",
       "      <td>S</td>\n",
       "    </tr>\n",
       "    <tr>\n",
       "      <th>2</th>\n",
       "      <td>0003_01</td>\n",
       "      <td>Europa</td>\n",
       "      <td>False</td>\n",
       "      <td>TRAPPIST-1e</td>\n",
       "      <td>58.0</td>\n",
       "      <td>True</td>\n",
       "      <td>43.0</td>\n",
       "      <td>3576.0</td>\n",
       "      <td>0.0</td>\n",
       "      <td>6715.0</td>\n",
       "      <td>49.0</td>\n",
       "      <td>Altark Susent</td>\n",
       "      <td>False</td>\n",
       "      <td>A</td>\n",
       "      <td>0</td>\n",
       "      <td>S</td>\n",
       "    </tr>\n",
       "    <tr>\n",
       "      <th>3</th>\n",
       "      <td>0003_02</td>\n",
       "      <td>Europa</td>\n",
       "      <td>False</td>\n",
       "      <td>TRAPPIST-1e</td>\n",
       "      <td>33.0</td>\n",
       "      <td>False</td>\n",
       "      <td>0.0</td>\n",
       "      <td>1283.0</td>\n",
       "      <td>371.0</td>\n",
       "      <td>3329.0</td>\n",
       "      <td>193.0</td>\n",
       "      <td>Solam Susent</td>\n",
       "      <td>False</td>\n",
       "      <td>A</td>\n",
       "      <td>0</td>\n",
       "      <td>S</td>\n",
       "    </tr>\n",
       "    <tr>\n",
       "      <th>4</th>\n",
       "      <td>0004_01</td>\n",
       "      <td>Earth</td>\n",
       "      <td>False</td>\n",
       "      <td>TRAPPIST-1e</td>\n",
       "      <td>16.0</td>\n",
       "      <td>False</td>\n",
       "      <td>303.0</td>\n",
       "      <td>70.0</td>\n",
       "      <td>151.0</td>\n",
       "      <td>565.0</td>\n",
       "      <td>2.0</td>\n",
       "      <td>Willy Santantines</td>\n",
       "      <td>True</td>\n",
       "      <td>F</td>\n",
       "      <td>1</td>\n",
       "      <td>S</td>\n",
       "    </tr>\n",
       "    <tr>\n",
       "      <th>...</th>\n",
       "      <td>...</td>\n",
       "      <td>...</td>\n",
       "      <td>...</td>\n",
       "      <td>...</td>\n",
       "      <td>...</td>\n",
       "      <td>...</td>\n",
       "      <td>...</td>\n",
       "      <td>...</td>\n",
       "      <td>...</td>\n",
       "      <td>...</td>\n",
       "      <td>...</td>\n",
       "      <td>...</td>\n",
       "      <td>...</td>\n",
       "      <td>...</td>\n",
       "      <td>...</td>\n",
       "      <td>...</td>\n",
       "    </tr>\n",
       "    <tr>\n",
       "      <th>8688</th>\n",
       "      <td>9276_01</td>\n",
       "      <td>Europa</td>\n",
       "      <td>False</td>\n",
       "      <td>55 Cancri e</td>\n",
       "      <td>41.0</td>\n",
       "      <td>True</td>\n",
       "      <td>0.0</td>\n",
       "      <td>6819.0</td>\n",
       "      <td>0.0</td>\n",
       "      <td>1643.0</td>\n",
       "      <td>74.0</td>\n",
       "      <td>Gravior Noxnuther</td>\n",
       "      <td>False</td>\n",
       "      <td>A</td>\n",
       "      <td>98</td>\n",
       "      <td>P</td>\n",
       "    </tr>\n",
       "    <tr>\n",
       "      <th>8689</th>\n",
       "      <td>9278_01</td>\n",
       "      <td>Earth</td>\n",
       "      <td>True</td>\n",
       "      <td>PSO J318.5-22</td>\n",
       "      <td>18.0</td>\n",
       "      <td>False</td>\n",
       "      <td>0.0</td>\n",
       "      <td>0.0</td>\n",
       "      <td>0.0</td>\n",
       "      <td>0.0</td>\n",
       "      <td>0.0</td>\n",
       "      <td>Kurta Mondalley</td>\n",
       "      <td>False</td>\n",
       "      <td>G</td>\n",
       "      <td>1499</td>\n",
       "      <td>S</td>\n",
       "    </tr>\n",
       "    <tr>\n",
       "      <th>8690</th>\n",
       "      <td>9279_01</td>\n",
       "      <td>Earth</td>\n",
       "      <td>False</td>\n",
       "      <td>TRAPPIST-1e</td>\n",
       "      <td>26.0</td>\n",
       "      <td>False</td>\n",
       "      <td>0.0</td>\n",
       "      <td>0.0</td>\n",
       "      <td>1872.0</td>\n",
       "      <td>1.0</td>\n",
       "      <td>0.0</td>\n",
       "      <td>Fayey Connon</td>\n",
       "      <td>True</td>\n",
       "      <td>G</td>\n",
       "      <td>1500</td>\n",
       "      <td>S</td>\n",
       "    </tr>\n",
       "    <tr>\n",
       "      <th>8691</th>\n",
       "      <td>9280_01</td>\n",
       "      <td>Europa</td>\n",
       "      <td>False</td>\n",
       "      <td>55 Cancri e</td>\n",
       "      <td>32.0</td>\n",
       "      <td>False</td>\n",
       "      <td>0.0</td>\n",
       "      <td>1049.0</td>\n",
       "      <td>0.0</td>\n",
       "      <td>353.0</td>\n",
       "      <td>3235.0</td>\n",
       "      <td>Celeon Hontichre</td>\n",
       "      <td>False</td>\n",
       "      <td>E</td>\n",
       "      <td>608</td>\n",
       "      <td>S</td>\n",
       "    </tr>\n",
       "    <tr>\n",
       "      <th>8692</th>\n",
       "      <td>9280_02</td>\n",
       "      <td>Europa</td>\n",
       "      <td>False</td>\n",
       "      <td>TRAPPIST-1e</td>\n",
       "      <td>44.0</td>\n",
       "      <td>False</td>\n",
       "      <td>126.0</td>\n",
       "      <td>4688.0</td>\n",
       "      <td>0.0</td>\n",
       "      <td>0.0</td>\n",
       "      <td>12.0</td>\n",
       "      <td>Propsh Hontichre</td>\n",
       "      <td>True</td>\n",
       "      <td>E</td>\n",
       "      <td>608</td>\n",
       "      <td>S</td>\n",
       "    </tr>\n",
       "  </tbody>\n",
       "</table>\n",
       "<p>8693 rows × 16 columns</p>\n",
       "</div>"
      ],
      "text/plain": [
       "     PassengerId HomePlanet  CryoSleep    Destination   Age    VIP  \\\n",
       "0        0001_01     Europa      False    TRAPPIST-1e  39.0  False   \n",
       "1        0002_01      Earth      False    TRAPPIST-1e  24.0  False   \n",
       "2        0003_01     Europa      False    TRAPPIST-1e  58.0   True   \n",
       "3        0003_02     Europa      False    TRAPPIST-1e  33.0  False   \n",
       "4        0004_01      Earth      False    TRAPPIST-1e  16.0  False   \n",
       "...          ...        ...        ...            ...   ...    ...   \n",
       "8688     9276_01     Europa      False    55 Cancri e  41.0   True   \n",
       "8689     9278_01      Earth       True  PSO J318.5-22  18.0  False   \n",
       "8690     9279_01      Earth      False    TRAPPIST-1e  26.0  False   \n",
       "8691     9280_01     Europa      False    55 Cancri e  32.0  False   \n",
       "8692     9280_02     Europa      False    TRAPPIST-1e  44.0  False   \n",
       "\n",
       "      RoomService  FoodCourt  ShoppingMall     Spa  VRDeck               Name  \\\n",
       "0             0.0        0.0           0.0     0.0     0.0    Maham Ofracculy   \n",
       "1           109.0        9.0          25.0   549.0    44.0       Juanna Vines   \n",
       "2            43.0     3576.0           0.0  6715.0    49.0      Altark Susent   \n",
       "3             0.0     1283.0         371.0  3329.0   193.0       Solam Susent   \n",
       "4           303.0       70.0         151.0   565.0     2.0  Willy Santantines   \n",
       "...           ...        ...           ...     ...     ...                ...   \n",
       "8688          0.0     6819.0           0.0  1643.0    74.0  Gravior Noxnuther   \n",
       "8689          0.0        0.0           0.0     0.0     0.0    Kurta Mondalley   \n",
       "8690          0.0        0.0        1872.0     1.0     0.0       Fayey Connon   \n",
       "8691          0.0     1049.0           0.0   353.0  3235.0   Celeon Hontichre   \n",
       "8692        126.0     4688.0           0.0     0.0    12.0   Propsh Hontichre   \n",
       "\n",
       "      Transported Deck Cabin_num Side  \n",
       "0           False    B         0    P  \n",
       "1            True    F         0    S  \n",
       "2           False    A         0    S  \n",
       "3           False    A         0    S  \n",
       "4            True    F         1    S  \n",
       "...           ...  ...       ...  ...  \n",
       "8688        False    A        98    P  \n",
       "8689        False    G      1499    S  \n",
       "8690         True    G      1500    S  \n",
       "8691        False    E       608    S  \n",
       "8692         True    E       608    S  \n",
       "\n",
       "[8693 rows x 16 columns]"
      ]
     },
     "execution_count": 18,
     "metadata": {},
     "output_type": "execute_result"
    }
   ],
   "source": [
    "# Dividing the cabin number into Deck, Number and Side\n",
    "space_df[['Deck', 'Cabin_num', 'Side']] = space_df['Cabin'].str.split(\"/\", expand=True)\n",
    "# Removing the Cabin Column from the Dataset\n",
    "space_df.drop('Cabin', axis=1)"
   ]
  },
  {
   "cell_type": "markdown",
   "id": "512966f7",
   "metadata": {},
   "source": [
    "## Destination"
   ]
  },
  {
   "cell_type": "code",
   "execution_count": 19,
   "id": "a8112ce8",
   "metadata": {},
   "outputs": [
    {
     "data": {
      "text/plain": [
       "array(['TRAPPIST-1e', 'PSO J318.5-22', '55 Cancri e', nan], dtype=object)"
      ]
     },
     "execution_count": 19,
     "metadata": {},
     "output_type": "execute_result"
    }
   ],
   "source": [
    "# viewing the items under the Destination column\n",
    "space_df['Destination'].unique()"
   ]
  },
  {
   "cell_type": "code",
   "execution_count": 20,
   "id": "7f89b08a",
   "metadata": {},
   "outputs": [
    {
     "data": {
      "text/plain": [
       "TRAPPIST-1e      5915\n",
       "55 Cancri e      1800\n",
       "PSO J318.5-22     796\n",
       "Name: Destination, dtype: int64"
      ]
     },
     "execution_count": 20,
     "metadata": {},
     "output_type": "execute_result"
    }
   ],
   "source": [
    "# viewing the counts of the items under the Destination column\n",
    "space_df['Destination'].value_counts()"
   ]
  },
  {
   "cell_type": "code",
   "execution_count": 21,
   "id": "64e13925",
   "metadata": {},
   "outputs": [],
   "source": [
    "# fill null values with TRAPPIST-1e\n",
    "space_df['Destination'] = space_df['Destination'].fillna('TRAPPIST-1e')"
   ]
  },
  {
   "cell_type": "code",
   "execution_count": 22,
   "id": "f8190861",
   "metadata": {},
   "outputs": [
    {
     "data": {
      "image/png": "[encoded data removed]",
      "text/plain": [
       "<Figure size 432x288 with 1 Axes>"
      ]
     },
     "metadata": {
      "needs_background": "light"
     },
     "output_type": "display_data"
    }
   ],
   "source": [
    "# Plotting a bar chart of the Destination column\n",
    "space_df['Destination'].value_counts().plot(kind='bar', color=['g', 'b', 'y'])\n",
    "plt.title('A plot of the Destination Column')\n",
    "plt.xlabel('Destination')\n",
    "plt.ylabel('Number of Passengers')\n",
    "plt.show()"
   ]
  },
  {
   "cell_type": "markdown",
   "id": "9449bde8",
   "metadata": {},
   "source": [
    "TRAPPIST-1e is the Destination of most passengers"
   ]
  },
  {
   "cell_type": "markdown",
   "id": "4c4ca1a5",
   "metadata": {},
   "source": [
    "## Age"
   ]
  },
  {
   "cell_type": "code",
   "execution_count": 23,
   "id": "981cdd00",
   "metadata": {},
   "outputs": [],
   "source": [
    "# filling null values with the median age 27\n",
    "space_df['Age'] = space_df['Age'].fillna(27)"
   ]
  },
  {
   "cell_type": "code",
   "execution_count": 24,
   "id": "2fcae7f5",
   "metadata": {
    "scrolled": true
   },
   "outputs": [
    {
     "data": {
      "text/plain": [
       "28.790291038766824"
      ]
     },
     "execution_count": 24,
     "metadata": {},
     "output_type": "execute_result"
    }
   ],
   "source": [
    "# viewing the mean age\n",
    "space_df['Age'].mean()"
   ]
  },
  {
   "cell_type": "markdown",
   "id": "219104a8",
   "metadata": {},
   "source": [
    "The mean age is 29 years."
   ]
  },
  {
   "cell_type": "markdown",
   "id": "25edf314",
   "metadata": {},
   "source": [
    "From the description of the data, the 75th percentile is 38. Meaning that, most of the passengers are less than 38 years."
   ]
  },
  {
   "cell_type": "code",
   "execution_count": 25,
   "id": "fad5ceff",
   "metadata": {},
   "outputs": [
    {
     "data": {
      "image/png": "[encoded data removed]",
      "text/plain": [
       "<Figure size 432x288 with 1 Axes>"
      ]
     },
     "metadata": {
      "needs_background": "light"
     },
     "output_type": "display_data"
    }
   ],
   "source": [
    "# plotting a histogram the Age column\n",
    "sns.histplot(space_df['Age'], bins=50, color='r')\n",
    "plt.title('A plot of the Ages of the Passengers')\n",
    "plt.xlabel('Age')\n",
    "plt.show()"
   ]
  },
  {
   "cell_type": "markdown",
   "id": "6d86eeb5",
   "metadata": {},
   "source": [
    "The Age column appears to be right skewed"
   ]
  },
  {
   "cell_type": "markdown",
   "id": "4fb7b4c5",
   "metadata": {},
   "source": [
    "## VIP"
   ]
  },
  {
   "cell_type": "code",
   "execution_count": 26,
   "id": "9752b8b2",
   "metadata": {},
   "outputs": [
    {
     "data": {
      "text/plain": [
       "array([False, True, nan], dtype=object)"
      ]
     },
     "execution_count": 26,
     "metadata": {},
     "output_type": "execute_result"
    }
   ],
   "source": [
    "# viewing elements in the VIP column\n",
    "space_df['VIP'].unique()"
   ]
  },
  {
   "cell_type": "code",
   "execution_count": 27,
   "id": "c3dbd302",
   "metadata": {},
   "outputs": [
    {
     "data": {
      "text/plain": [
       "False    8291\n",
       "True      199\n",
       "Name: VIP, dtype: int64"
      ]
     },
     "execution_count": 27,
     "metadata": {},
     "output_type": "execute_result"
    }
   ],
   "source": [
    "# viewing count of each element in the VIP column\n",
    "space_df['VIP'].value_counts()"
   ]
  },
  {
   "cell_type": "code",
   "execution_count": 28,
   "id": "89a8be96",
   "metadata": {},
   "outputs": [],
   "source": [
    "# replacing null values in the VIP column with 'False'\n",
    "space_df['VIP'] = space_df['VIP'].fillna(False)"
   ]
  },
  {
   "cell_type": "code",
   "execution_count": 29,
   "id": "ef0c5d68",
   "metadata": {},
   "outputs": [
    {
     "data": {
      "image/png": "[encoded data removed]",
      "text/plain": [
       "<Figure size 432x288 with 1 Axes>"
      ]
     },
     "metadata": {
      "needs_background": "light"
     },
     "output_type": "display_data"
    }
   ],
   "source": [
    "# Plotting a bar chart of the VIP column\n",
    "space_df['VIP'].value_counts().plot(kind='bar', color=['g', 'b', 'y'])\n",
    "plt.title('A plot of the VIP Column')\n",
    "plt.xlabel('TRUE/FALSE')\n",
    "plt.ylabel('Number of Passengers')\n",
    "plt.show()"
   ]
  },
  {
   "cell_type": "markdown",
   "id": "a549842a",
   "metadata": {},
   "source": [
    "Only 199 Passengers joined the VIP"
   ]
  },
  {
   "cell_type": "markdown",
   "id": "60320cad",
   "metadata": {},
   "source": [
    "## Room Service"
   ]
  },
  {
   "cell_type": "code",
   "execution_count": 30,
   "id": "5dee6eca",
   "metadata": {},
   "outputs": [
    {
     "data": {
      "text/plain": [
       "0         0.0\n",
       "1       109.0\n",
       "2        43.0\n",
       "3         0.0\n",
       "4       303.0\n",
       "        ...  \n",
       "8688      0.0\n",
       "8689      0.0\n",
       "8690      0.0\n",
       "8691      0.0\n",
       "8692    126.0\n",
       "Name: RoomService, Length: 8693, dtype: float64"
      ]
     },
     "execution_count": 30,
     "metadata": {},
     "output_type": "execute_result"
    }
   ],
   "source": [
    "# Viewing the Room service Column\n",
    "space_df['RoomService']"
   ]
  },
  {
   "cell_type": "code",
   "execution_count": 31,
   "id": "af18cb6c",
   "metadata": {},
   "outputs": [],
   "source": [
    "# Replacing null values with the mean of the data\n",
    "mean_RS = space_df['RoomService'].mean()\n",
    "mean_RS = round(mean_RS, 2)\n",
    "space_df['RoomService'] = space_df['RoomService'].fillna(mean_RS)"
   ]
  },
  {
   "cell_type": "code",
   "execution_count": 32,
   "id": "fd329e96",
   "metadata": {},
   "outputs": [
    {
     "name": "stdout",
     "output_type": "stream",
     "text": [
      "The minimum price of bill paid for the room service is 0.0\n",
      "The maximum price of bill paid for the room service is 14327.0\n"
     ]
    }
   ],
   "source": [
    "# viewing maximum and minimum values of the Room Service Column\n",
    "max_value = space_df['RoomService'].max()\n",
    "min_value = space_df['RoomService'].min()\n",
    "\n",
    "print('The minimum price of bill paid for the room service is ' + str(min_value))\n",
    "print('The maximum price of bill paid for the room service is ' + str(max_value))"
   ]
  },
  {
   "cell_type": "markdown",
   "id": "36508f65",
   "metadata": {},
   "source": [
    "## FoodCourt"
   ]
  },
  {
   "cell_type": "code",
   "execution_count": 33,
   "id": "28f093a3",
   "metadata": {},
   "outputs": [
    {
     "data": {
      "text/plain": [
       "0          0.0\n",
       "1          9.0\n",
       "2       3576.0\n",
       "3       1283.0\n",
       "4         70.0\n",
       "         ...  \n",
       "8688    6819.0\n",
       "8689       0.0\n",
       "8690       0.0\n",
       "8691    1049.0\n",
       "8692    4688.0\n",
       "Name: FoodCourt, Length: 8693, dtype: float64"
      ]
     },
     "execution_count": 33,
     "metadata": {},
     "output_type": "execute_result"
    }
   ],
   "source": [
    "# Viewing the food court column\n",
    "space_df['FoodCourt']"
   ]
  },
  {
   "cell_type": "code",
   "execution_count": 34,
   "id": "3b8ca2e5",
   "metadata": {},
   "outputs": [],
   "source": [
    "# Replacing null values with the mean of the data\n",
    "mean_FC = space_df['FoodCourt'].mean()\n",
    "mean_FC = round(mean_FC, 2)\n",
    "space_df['FoodCourt'] = space_df['FoodCourt'].fillna(mean_FC)"
   ]
  },
  {
   "cell_type": "code",
   "execution_count": 35,
   "id": "3d28784b",
   "metadata": {},
   "outputs": [
    {
     "name": "stdout",
     "output_type": "stream",
     "text": [
      "The minimum bill issued to a passenger for Food is 0.0\n",
      "The maximum bill issued to a passenger for Food is 29813.0\n"
     ]
    }
   ],
   "source": [
    "# viewing maximum and minimum values of the Food Court Column\n",
    "maxF_value = space_df['FoodCourt'].max()\n",
    "minF_value = space_df['FoodCourt'].min()\n",
    "\n",
    "print('The minimum bill issued to a passenger for Food is ' + str(minF_value))\n",
    "print('The maximum bill issued to a passenger for Food is ' + str(maxF_value))"
   ]
  },
  {
   "cell_type": "markdown",
   "id": "c10614ce",
   "metadata": {},
   "source": [
    "## Shopping Mall"
   ]
  },
  {
   "cell_type": "code",
   "execution_count": 36,
   "id": "9b84e9b6",
   "metadata": {},
   "outputs": [
    {
     "data": {
      "text/plain": [
       "0          0.0\n",
       "1         25.0\n",
       "2          0.0\n",
       "3        371.0\n",
       "4        151.0\n",
       "         ...  \n",
       "8688       0.0\n",
       "8689       0.0\n",
       "8690    1872.0\n",
       "8691       0.0\n",
       "8692       0.0\n",
       "Name: ShoppingMall, Length: 8693, dtype: float64"
      ]
     },
     "execution_count": 36,
     "metadata": {},
     "output_type": "execute_result"
    }
   ],
   "source": [
    "# Viewing the Shapping Mall column\n",
    "space_df['ShoppingMall']"
   ]
  },
  {
   "cell_type": "code",
   "execution_count": 37,
   "id": "a9fa8fc8",
   "metadata": {},
   "outputs": [],
   "source": [
    "# Replacing null values with the mean of the data\n",
    "mean_SM = space_df['ShoppingMall'].mean()\n",
    "mean_SM = round(mean_SM, 2)\n",
    "space_df['ShoppingMall'] = space_df['ShoppingMall'].fillna(mean_SM)"
   ]
  },
  {
   "cell_type": "code",
   "execution_count": 38,
   "id": "97787b6d",
   "metadata": {},
   "outputs": [
    {
     "name": "stdout",
     "output_type": "stream",
     "text": [
      "The minimum bill issued to a passenger for Shopping is 0.0\n",
      "The maximum bill issued to a passenger for Shopping is 23492.0\n"
     ]
    }
   ],
   "source": [
    "# viewing maximum and minimum values of the Shopping Mall Column\n",
    "max_SM_value = space_df['ShoppingMall'].max()\n",
    "min_SM_value = space_df['ShoppingMall'].min()\n",
    "\n",
    "print('The minimum bill issued to a passenger for Shopping is ' + str(min_SM_value))\n",
    "print('The maximum bill issued to a passenger for Shopping is ' + str(max_SM_value))"
   ]
  },
  {
   "cell_type": "markdown",
   "id": "3a8be9f0",
   "metadata": {},
   "source": [
    "From the data above, it shows that some passengers did not do shopping"
   ]
  },
  {
   "cell_type": "markdown",
   "id": "a36b9587",
   "metadata": {},
   "source": [
    "## SPA"
   ]
  },
  {
   "cell_type": "code",
   "execution_count": 39,
   "id": "4b14f30f",
   "metadata": {},
   "outputs": [
    {
     "data": {
      "text/plain": [
       "0          0.0\n",
       "1        549.0\n",
       "2       6715.0\n",
       "3       3329.0\n",
       "4        565.0\n",
       "         ...  \n",
       "8688    1643.0\n",
       "8689       0.0\n",
       "8690       1.0\n",
       "8691     353.0\n",
       "8692       0.0\n",
       "Name: Spa, Length: 8693, dtype: float64"
      ]
     },
     "execution_count": 39,
     "metadata": {},
     "output_type": "execute_result"
    }
   ],
   "source": [
    "# Viewing the SPA column\n",
    "space_df['Spa']"
   ]
  },
  {
   "cell_type": "code",
   "execution_count": 40,
   "id": "1aaf7d9b",
   "metadata": {},
   "outputs": [],
   "source": [
    "# Replacing null values with the mean of the data\n",
    "mean_SP = space_df['Spa'].mean()\n",
    "mean_SP = round(mean_SP, 2)\n",
    "space_df['Spa'] = space_df['Spa'].fillna(mean_SP)"
   ]
  },
  {
   "cell_type": "code",
   "execution_count": 41,
   "id": "355f245f",
   "metadata": {},
   "outputs": [
    {
     "name": "stdout",
     "output_type": "stream",
     "text": [
      "The minimum bill issued to a passenger for using the Spa is 0.0\n",
      "The maximum bill issued to a passenger for using the Spa is 22408.0\n"
     ]
    }
   ],
   "source": [
    "# viewing maximum and minimum values of the Spa Column\n",
    "max_SP_value = space_df['Spa'].max()\n",
    "min_SP_value = space_df['Spa'].min()\n",
    "\n",
    "print('The minimum bill issued to a passenger for using the Spa is ' + str(min_SP_value))\n",
    "print('The maximum bill issued to a passenger for using the Spa is ' + str(max_SP_value))"
   ]
  },
  {
   "cell_type": "markdown",
   "id": "0e961e6e",
   "metadata": {},
   "source": [
    "From the data above, some passengers did not use the Spa"
   ]
  },
  {
   "cell_type": "markdown",
   "id": "4eedbf53",
   "metadata": {},
   "source": [
    "## VRDeck"
   ]
  },
  {
   "cell_type": "code",
   "execution_count": 42,
   "id": "daa3dc65",
   "metadata": {},
   "outputs": [
    {
     "data": {
      "text/plain": [
       "0          0.0\n",
       "1         44.0\n",
       "2         49.0\n",
       "3        193.0\n",
       "4          2.0\n",
       "         ...  \n",
       "8688      74.0\n",
       "8689       0.0\n",
       "8690       0.0\n",
       "8691    3235.0\n",
       "8692      12.0\n",
       "Name: VRDeck, Length: 8693, dtype: float64"
      ]
     },
     "execution_count": 42,
     "metadata": {},
     "output_type": "execute_result"
    }
   ],
   "source": [
    "# Viewing the VR Deck column\n",
    "space_df['VRDeck']"
   ]
  },
  {
   "cell_type": "code",
   "execution_count": 43,
   "id": "70c56574",
   "metadata": {},
   "outputs": [],
   "source": [
    "# Replacing null values with the mean of the data\n",
    "mean_VD = space_df['VRDeck'].mean()\n",
    "mean_VD = round(mean_VD, 2)\n",
    "space_df['VRDeck'] = space_df['VRDeck'].fillna(mean_VD)"
   ]
  },
  {
   "cell_type": "code",
   "execution_count": 44,
   "id": "2d102002",
   "metadata": {},
   "outputs": [
    {
     "name": "stdout",
     "output_type": "stream",
     "text": [
      "The minimum bill issued to a passenger for using the VRDeck is 0.0\n",
      "The maximum bill issued to a passenger for using the VRDeck is 24133.0\n"
     ]
    }
   ],
   "source": [
    "# viewing maximum and minimum values of the VRDeck Column\n",
    "max_VD_value = space_df['VRDeck'].max()\n",
    "min_VD_value = space_df['VRDeck'].min()\n",
    "\n",
    "print('The minimum bill issued to a passenger for using the VRDeck is ' + str(min_VD_value))\n",
    "print('The maximum bill issued to a passenger for using the VRDeck is ' + str(max_VD_value))"
   ]
  },
  {
   "cell_type": "markdown",
   "id": "58ba7a1a",
   "metadata": {},
   "source": [
    "Some passengers did not make use of the VRDeck service"
   ]
  },
  {
   "cell_type": "markdown",
   "id": "bfe568a3",
   "metadata": {},
   "source": [
    "## Name"
   ]
  },
  {
   "cell_type": "code",
   "execution_count": 45,
   "id": "ca2e6c4d",
   "metadata": {},
   "outputs": [
    {
     "data": {
      "text/plain": [
       "array(['Maham Ofracculy', 'Juanna Vines', 'Altark Susent', ...,\n",
       "       'Fayey Connon', 'Celeon Hontichre', 'Propsh Hontichre'],\n",
       "      dtype=object)"
      ]
     },
     "execution_count": 45,
     "metadata": {},
     "output_type": "execute_result"
    }
   ],
   "source": [
    "# Viewing names of each column\n",
    "space_df['Name'].unique()"
   ]
  },
  {
   "cell_type": "markdown",
   "id": "27f0f59b",
   "metadata": {},
   "source": [
    "It can be seen that, every name appears once. Hence, we can decide to drop the name column for further analysis."
   ]
  },
  {
   "cell_type": "code",
   "execution_count": 46,
   "id": "97d160ff",
   "metadata": {},
   "outputs": [],
   "source": [
    "# Dropping the name column\n",
    "space_df = space_df.drop('Name', axis=1)"
   ]
  },
  {
   "cell_type": "markdown",
   "id": "95763457",
   "metadata": {},
   "source": [
    "## Transported"
   ]
  },
  {
   "cell_type": "code",
   "execution_count": 47,
   "id": "f5c59088",
   "metadata": {},
   "outputs": [
    {
     "data": {
      "text/plain": [
       "array([False,  True])"
      ]
     },
     "execution_count": 47,
     "metadata": {},
     "output_type": "execute_result"
    }
   ],
   "source": [
    "# Viewing unique values in the Transported column\n",
    "space_df['Transported'].unique()"
   ]
  },
  {
   "cell_type": "code",
   "execution_count": 48,
   "id": "b44931aa",
   "metadata": {},
   "outputs": [
    {
     "data": {
      "image/png": "[encoded data removed]",
      "text/plain": [
       "<Figure size 432x288 with 1 Axes>"
      ]
     },
     "metadata": {
      "needs_background": "light"
     },
     "output_type": "display_data"
    }
   ],
   "source": [
    "# A plot of the Transported column\n",
    "space_df['Transported'].value_counts().plot(kind='bar', color = ['r', 'b'])\n",
    "plt.title('A plot of Transported column')\n",
    "plt.xlabel('TRUE/FALSE')\n",
    "plt.show()"
   ]
  },
  {
   "cell_type": "markdown",
   "id": "385ffd06",
   "metadata": {},
   "source": [
    "From the plot above, it shows that more passengers were transported to a different dimension."
   ]
  },
  {
   "cell_type": "markdown",
   "id": "162857fd",
   "metadata": {},
   "source": [
    "## Deck"
   ]
  },
  {
   "cell_type": "code",
   "execution_count": 49,
   "id": "d2d52683",
   "metadata": {},
   "outputs": [
    {
     "data": {
      "text/plain": [
       "array(['B', 'F', 'A', 'G', nan, 'E', 'D', 'C', 'T'], dtype=object)"
      ]
     },
     "execution_count": 49,
     "metadata": {},
     "output_type": "execute_result"
    }
   ],
   "source": [
    "# Viewing the individual elements in the Deck Column\n",
    "space_df['Deck'].unique()"
   ]
  },
  {
   "cell_type": "code",
   "execution_count": 50,
   "id": "f83e066f",
   "metadata": {},
   "outputs": [
    {
     "data": {
      "text/plain": [
       "F    2794\n",
       "G    2559\n",
       "E     876\n",
       "B     779\n",
       "C     747\n",
       "D     478\n",
       "A     256\n",
       "T       5\n",
       "Name: Deck, dtype: int64"
      ]
     },
     "execution_count": 50,
     "metadata": {},
     "output_type": "execute_result"
    }
   ],
   "source": [
    "# Viewing which element occurs the most\n",
    "space_df['Deck'].value_counts()"
   ]
  },
  {
   "cell_type": "markdown",
   "id": "47255c2c",
   "metadata": {},
   "source": [
    "Letter F occurs the most. Hence, we replace null values with the letter F"
   ]
  },
  {
   "cell_type": "code",
   "execution_count": 51,
   "id": "e6f36f5f",
   "metadata": {},
   "outputs": [],
   "source": [
    "# Replace null values with letter F\n",
    "space_df['Deck'] = space_df['Deck'].fillna('F')"
   ]
  },
  {
   "cell_type": "code",
   "execution_count": 52,
   "id": "3a9807a9",
   "metadata": {},
   "outputs": [
    {
     "data": {
      "image/png": "[encoded data removed]",
      "text/plain": [
       "<Figure size 432x288 with 1 Axes>"
      ]
     },
     "metadata": {
      "needs_background": "light"
     },
     "output_type": "display_data"
    }
   ],
   "source": [
    "# A plot of the Deck column\n",
    "space_df['Deck'].value_counts().plot(kind='bar', color = ['b', 'y', 'g', 'c', 'k', 'r', 'm', 'orange'])\n",
    "plt.title('A plot of the Deck Identification letter column against its Frequency')\n",
    "plt.xlabel('Identification Letter')\n",
    "plt.ylabel('Frequency')\n",
    "plt.show()"
   ]
  },
  {
   "cell_type": "markdown",
   "id": "763814e3",
   "metadata": {},
   "source": [
    "## Cabin_num column"
   ]
  },
  {
   "cell_type": "code",
   "execution_count": 53,
   "id": "88400a45",
   "metadata": {},
   "outputs": [
    {
     "data": {
      "text/plain": [
       "82      28\n",
       "86      22\n",
       "19      22\n",
       "56      21\n",
       "176     21\n",
       "        ..\n",
       "1644     1\n",
       "1515     1\n",
       "1639     1\n",
       "1277     1\n",
       "1894     1\n",
       "Name: Cabin_num, Length: 1817, dtype: int64"
      ]
     },
     "execution_count": 53,
     "metadata": {},
     "output_type": "execute_result"
    }
   ],
   "source": [
    "# Viewing the Cabin_num column\n",
    "space_df['Cabin_num'].value_counts()"
   ]
  },
  {
   "cell_type": "code",
   "execution_count": 54,
   "id": "bcfd8c2d",
   "metadata": {},
   "outputs": [],
   "source": [
    "# replacing null values with 82 since it occurs the most\n",
    "space_df['Cabin_num'] = space_df['Cabin_num'].fillna(82)"
   ]
  },
  {
   "cell_type": "markdown",
   "id": "a2885e35",
   "metadata": {},
   "source": [
    "## Side"
   ]
  },
  {
   "cell_type": "code",
   "execution_count": 55,
   "id": "ad5a7e59",
   "metadata": {},
   "outputs": [
    {
     "data": {
      "text/plain": [
       "array(['P', 'S', nan], dtype=object)"
      ]
     },
     "execution_count": 55,
     "metadata": {},
     "output_type": "execute_result"
    }
   ],
   "source": [
    "# Viewing the unique elements in the Side column\n",
    "space_df['Side'].unique()"
   ]
  },
  {
   "cell_type": "code",
   "execution_count": 56,
   "id": "785e8000",
   "metadata": {},
   "outputs": [
    {
     "data": {
      "text/plain": [
       "S    4288\n",
       "P    4206\n",
       "Name: Side, dtype: int64"
      ]
     },
     "execution_count": 56,
     "metadata": {},
     "output_type": "execute_result"
    }
   ],
   "source": [
    "# finding which element occurs the most\n",
    "space_df['Side'].value_counts()"
   ]
  },
  {
   "cell_type": "markdown",
   "id": "67995bb2",
   "metadata": {},
   "source": [
    "Letter P represents Port and letter S represents Starboard. The data shown above shows that, most of the passengers joined the Starboard. Hence, we replace all null values with the letter S."
   ]
  },
  {
   "cell_type": "code",
   "execution_count": 57,
   "id": "c98c3518",
   "metadata": {},
   "outputs": [],
   "source": [
    "# Replacing null values with S since it occurs the most\n",
    "space_df['Side'] = space_df['Side'].fillna('S')"
   ]
  },
  {
   "cell_type": "markdown",
   "id": "516079d2",
   "metadata": {},
   "source": [
    "#### Dropping the Cabin since it is not needed anymore"
   ]
  },
  {
   "cell_type": "code",
   "execution_count": 58,
   "id": "3943b98a",
   "metadata": {},
   "outputs": [],
   "source": [
    "space_df = space_df.drop('Cabin', axis=1)"
   ]
  },
  {
   "cell_type": "code",
   "execution_count": 59,
   "id": "6909f088",
   "metadata": {
    "scrolled": true
   },
   "outputs": [
    {
     "data": {
      "text/plain": [
       "PassengerId     0\n",
       "HomePlanet      0\n",
       "CryoSleep       0\n",
       "Destination     0\n",
       "Age             0\n",
       "VIP             0\n",
       "RoomService     0\n",
       "FoodCourt       0\n",
       "ShoppingMall    0\n",
       "Spa             0\n",
       "VRDeck          0\n",
       "Transported     0\n",
       "Deck            0\n",
       "Cabin_num       0\n",
       "Side            0\n",
       "dtype: int64"
      ]
     },
     "execution_count": 59,
     "metadata": {},
     "output_type": "execute_result"
    }
   ],
   "source": [
    "# checking to see if there are null values in the data\n",
    "space_df.isnull().sum()"
   ]
  },
  {
   "cell_type": "markdown",
   "id": "39e31428",
   "metadata": {},
   "source": [
    "The data above shows that, there are null values in the data set"
   ]
  },
  {
   "cell_type": "markdown",
   "id": "087bdf1f",
   "metadata": {},
   "source": [
    "# MULTIVARIATE ANALYSIS"
   ]
  },
  {
   "cell_type": "code",
   "execution_count": 60,
   "id": "11a11c4b",
   "metadata": {
    "scrolled": true
   },
   "outputs": [
    {
     "data": {
      "text/html": [
       "<div>\n",
       "<style scoped>\n",
       "    .dataframe tbody tr th:only-of-type {\n",
       "        vertical-align: middle;\n",
       "    }\n",
       "\n",
       "    .dataframe tbody tr th {\n",
       "        vertical-align: top;\n",
       "    }\n",
       "\n",
       "    .dataframe thead th {\n",
       "        text-align: right;\n",
       "    }\n",
       "</style>\n",
       "<table border=\"1\" class=\"dataframe\">\n",
       "  <thead>\n",
       "    <tr style=\"text-align: right;\">\n",
       "      <th></th>\n",
       "      <th>CryoSleep</th>\n",
       "      <th>Age</th>\n",
       "      <th>VIP</th>\n",
       "      <th>RoomService</th>\n",
       "      <th>FoodCourt</th>\n",
       "      <th>ShoppingMall</th>\n",
       "      <th>Spa</th>\n",
       "      <th>VRDeck</th>\n",
       "      <th>Transported</th>\n",
       "    </tr>\n",
       "  </thead>\n",
       "  <tbody>\n",
       "    <tr>\n",
       "      <th>CryoSleep</th>\n",
       "      <td>1.000000</td>\n",
       "      <td>-0.071323</td>\n",
       "      <td>-0.078281</td>\n",
       "      <td>-0.243986</td>\n",
       "      <td>-0.205682</td>\n",
       "      <td>-0.206366</td>\n",
       "      <td>-0.198392</td>\n",
       "      <td>-0.193107</td>\n",
       "      <td>0.460132</td>\n",
       "    </tr>\n",
       "    <tr>\n",
       "      <th>Age</th>\n",
       "      <td>-0.071323</td>\n",
       "      <td>1.000000</td>\n",
       "      <td>0.091863</td>\n",
       "      <td>0.067830</td>\n",
       "      <td>0.127983</td>\n",
       "      <td>0.032958</td>\n",
       "      <td>0.120878</td>\n",
       "      <td>0.099248</td>\n",
       "      <td>-0.074233</td>\n",
       "    </tr>\n",
       "    <tr>\n",
       "      <th>VIP</th>\n",
       "      <td>-0.078281</td>\n",
       "      <td>0.091863</td>\n",
       "      <td>1.000000</td>\n",
       "      <td>0.056595</td>\n",
       "      <td>0.126006</td>\n",
       "      <td>0.018483</td>\n",
       "      <td>0.060573</td>\n",
       "      <td>0.123092</td>\n",
       "      <td>-0.037261</td>\n",
       "    </tr>\n",
       "    <tr>\n",
       "      <th>RoomService</th>\n",
       "      <td>-0.243986</td>\n",
       "      <td>0.067830</td>\n",
       "      <td>0.056595</td>\n",
       "      <td>1.000000</td>\n",
       "      <td>-0.015521</td>\n",
       "      <td>0.052962</td>\n",
       "      <td>0.009925</td>\n",
       "      <td>-0.019207</td>\n",
       "      <td>-0.242048</td>\n",
       "    </tr>\n",
       "    <tr>\n",
       "      <th>FoodCourt</th>\n",
       "      <td>-0.205682</td>\n",
       "      <td>0.127983</td>\n",
       "      <td>0.126006</td>\n",
       "      <td>-0.015521</td>\n",
       "      <td>1.000000</td>\n",
       "      <td>-0.013934</td>\n",
       "      <td>0.220587</td>\n",
       "      <td>0.224275</td>\n",
       "      <td>0.046074</td>\n",
       "    </tr>\n",
       "    <tr>\n",
       "      <th>ShoppingMall</th>\n",
       "      <td>-0.206366</td>\n",
       "      <td>0.032958</td>\n",
       "      <td>0.018483</td>\n",
       "      <td>0.052962</td>\n",
       "      <td>-0.013934</td>\n",
       "      <td>1.000000</td>\n",
       "      <td>0.013678</td>\n",
       "      <td>-0.007189</td>\n",
       "      <td>0.010019</td>\n",
       "    </tr>\n",
       "    <tr>\n",
       "      <th>Spa</th>\n",
       "      <td>-0.198392</td>\n",
       "      <td>0.120878</td>\n",
       "      <td>0.060573</td>\n",
       "      <td>0.009925</td>\n",
       "      <td>0.220587</td>\n",
       "      <td>0.013678</td>\n",
       "      <td>1.000000</td>\n",
       "      <td>0.147957</td>\n",
       "      <td>-0.218791</td>\n",
       "    </tr>\n",
       "    <tr>\n",
       "      <th>VRDeck</th>\n",
       "      <td>-0.193107</td>\n",
       "      <td>0.099248</td>\n",
       "      <td>0.123092</td>\n",
       "      <td>-0.019207</td>\n",
       "      <td>0.224275</td>\n",
       "      <td>-0.007189</td>\n",
       "      <td>0.147957</td>\n",
       "      <td>1.000000</td>\n",
       "      <td>-0.204825</td>\n",
       "    </tr>\n",
       "    <tr>\n",
       "      <th>Transported</th>\n",
       "      <td>0.460132</td>\n",
       "      <td>-0.074233</td>\n",
       "      <td>-0.037261</td>\n",
       "      <td>-0.242048</td>\n",
       "      <td>0.046074</td>\n",
       "      <td>0.010019</td>\n",
       "      <td>-0.218791</td>\n",
       "      <td>-0.204825</td>\n",
       "      <td>1.000000</td>\n",
       "    </tr>\n",
       "  </tbody>\n",
       "</table>\n",
       "</div>"
      ],
      "text/plain": [
       "              CryoSleep       Age       VIP  RoomService  FoodCourt  \\\n",
       "CryoSleep      1.000000 -0.071323 -0.078281    -0.243986  -0.205682   \n",
       "Age           -0.071323  1.000000  0.091863     0.067830   0.127983   \n",
       "VIP           -0.078281  0.091863  1.000000     0.056595   0.126006   \n",
       "RoomService   -0.243986  0.067830  0.056595     1.000000  -0.015521   \n",
       "FoodCourt     -0.205682  0.127983  0.126006    -0.015521   1.000000   \n",
       "ShoppingMall  -0.206366  0.032958  0.018483     0.052962  -0.013934   \n",
       "Spa           -0.198392  0.120878  0.060573     0.009925   0.220587   \n",
       "VRDeck        -0.193107  0.099248  0.123092    -0.019207   0.224275   \n",
       "Transported    0.460132 -0.074233 -0.037261    -0.242048   0.046074   \n",
       "\n",
       "              ShoppingMall       Spa    VRDeck  Transported  \n",
       "CryoSleep        -0.206366 -0.198392 -0.193107     0.460132  \n",
       "Age               0.032958  0.120878  0.099248    -0.074233  \n",
       "VIP               0.018483  0.060573  0.123092    -0.037261  \n",
       "RoomService       0.052962  0.009925 -0.019207    -0.242048  \n",
       "FoodCourt        -0.013934  0.220587  0.224275     0.046074  \n",
       "ShoppingMall      1.000000  0.013678 -0.007189     0.010019  \n",
       "Spa               0.013678  1.000000  0.147957    -0.218791  \n",
       "VRDeck           -0.007189  0.147957  1.000000    -0.204825  \n",
       "Transported       0.010019 -0.218791 -0.204825     1.000000  "
      ]
     },
     "execution_count": 60,
     "metadata": {},
     "output_type": "execute_result"
    }
   ],
   "source": [
    "# checking correlation of the columns\n",
    "space_df.corr()"
   ]
  },
  {
   "cell_type": "markdown",
   "id": "3559c06d",
   "metadata": {},
   "source": [
    "Since there is a very low correlation between the columns, multivariate analysis is insignificant"
   ]
  },
  {
   "cell_type": "code",
   "execution_count": 61,
   "id": "bc73da8a",
   "metadata": {},
   "outputs": [
    {
     "data": {
      "image/png": "[encoded data removed]",
      "text/plain": [
       "<Figure size 360x864 with 5 Axes>"
      ]
     },
     "metadata": {
      "needs_background": "light"
     },
     "output_type": "display_data"
    }
   ],
   "source": [
    "# plotting graphs of the remaining columns\n",
    "fig, ax = plt.subplots(5, 1, figsize=(5, 12))\n",
    "plt.subplots_adjust(top=2)\n",
    "\n",
    "sns.histplot(space_df['RoomService'], color='r', bins=50, ax=ax[0])\n",
    "ax[0].set_title('Bill issued to a passenger for enjoying Room Service')\n",
    "sns.histplot(space_df['FoodCourt'], color='b', bins=50, ax=ax[1])\n",
    "ax[1].set_title('Bill issued to a passenger for enjoying Food Court Service')\n",
    "sns.histplot(space_df['ShoppingMall'], color='g', bins=50, ax=ax[2])\n",
    "ax[2].set_title('Bill issued to a passenger for enjoying Shopping  Mall service')\n",
    "sns.histplot(space_df['Spa'], color='m', bins=50, ax=ax[3])\n",
    "ax[3].set_title('Bill issued to a passenger for enjoying Spa Service')\n",
    "sns.histplot(space_df['VRDeck'], color='y', bins=50, ax=ax[4])\n",
    "ax[4].set_title('Bill issued to a passenger for enjoying VRDeck Service')\n",
    "\n",
    "plt.show()"
   ]
  },
  {
   "cell_type": "markdown",
   "id": "d4b114c0",
   "metadata": {},
   "source": [
    "# MACHINE LEARNING MODEL"
   ]
  },
  {
   "cell_type": "markdown",
   "id": "f7de410c",
   "metadata": {},
   "source": [
    "### Preparing Data for machine Learning"
   ]
  },
  {
   "cell_type": "code",
   "execution_count": 62,
   "id": "cd54f122",
   "metadata": {},
   "outputs": [],
   "source": [
    "# converting all categorical columns with numerical elements to numerical columns\n",
    "space_df['PassengerId'] = space_df['PassengerId'].astype(int)\n",
    "space_df['VIP'] = space_df['VIP'].astype(int)\n",
    "space_df['Transported'] = space_df['Transported'].astype(int)\n",
    "space_df['Cabin_num'] = space_df['Cabin_num'].astype(int)"
   ]
  },
  {
   "cell_type": "code",
   "execution_count": 63,
   "id": "0b7be266",
   "metadata": {},
   "outputs": [],
   "source": [
    "# converting homeplanet to numerical values\n",
    "planet = {'Earth':1, 'Europa':2, 'Mars':3}\n",
    "space_df['HomePlanet'] = space_df['HomePlanet'].replace(planet)"
   ]
  },
  {
   "cell_type": "code",
   "execution_count": 64,
   "id": "1a1d6bd6",
   "metadata": {},
   "outputs": [],
   "source": [
    "# converting Destination to numerical values\n",
    "destination = {'TRAPPIST-1e':1, 'PSO J318.5-22':2, '55 Cancri e':3}\n",
    "space_df['Destination'] = space_df['Destination'].replace(destination)"
   ]
  },
  {
   "cell_type": "code",
   "execution_count": 65,
   "id": "c130fa7e",
   "metadata": {},
   "outputs": [],
   "source": [
    "# converting Deck column to numerical values\n",
    "deck = {'B':1, 'F':2, 'A':3, 'G':4, 'E':5, 'D':6, 'C':7, 'T':8}\n",
    "space_df['Deck'] = space_df['Deck'].replace(deck)"
   ]
  },
  {
   "cell_type": "code",
   "execution_count": 66,
   "id": "d29e4424",
   "metadata": {},
   "outputs": [],
   "source": [
    "# converting Side column to numerical values\n",
    "side = {'P':1, 'S':2}\n",
    "space_df['Side'] = space_df['Side'].replace(side)"
   ]
  },
  {
   "cell_type": "code",
   "execution_count": 67,
   "id": "1d12a125",
   "metadata": {},
   "outputs": [],
   "source": [
    "# Assigning the target and feature to variables\n",
    "y = space_df['Transported']\n",
    "x = space_df.drop('Transported', axis = 1)"
   ]
  },
  {
   "cell_type": "code",
   "execution_count": 68,
   "id": "d917167f",
   "metadata": {},
   "outputs": [],
   "source": [
    "# transforming the data set with standard scaler\n",
    "scaler = StandardScaler()\n",
    "scaled_x = scaler.fit_transform(x)"
   ]
  },
  {
   "cell_type": "code",
   "execution_count": 69,
   "id": "abafbfe1",
   "metadata": {},
   "outputs": [
    {
     "data": {
      "text/plain": [
       "array([[-1.73441071,  0.44038529, -0.73277002, ..., -1.42227061,\n",
       "        -1.14975329, -1.03286462],\n",
       "       [-1.7340363 , -0.81725903, -0.73277002, ..., -0.84968698,\n",
       "        -1.14975329,  0.9681811 ],\n",
       "       [-1.7336619 ,  0.44038529, -0.73277002, ..., -0.27710334,\n",
       "        -1.14975329,  0.9681811 ],\n",
       "       ...,\n",
       "       [ 1.73935681, -0.81725903, -0.73277002, ...,  0.29548029,\n",
       "         1.78079283,  0.9681811 ],\n",
       "       [ 1.73973122,  0.44038529, -0.73277002, ...,  0.86806393,\n",
       "         0.03809474,  0.9681811 ],\n",
       "       [ 1.73973496,  0.44038529, -0.73277002, ...,  0.86806393,\n",
       "         0.03809474,  0.9681811 ]])"
      ]
     },
     "execution_count": 69,
     "metadata": {},
     "output_type": "execute_result"
    }
   ],
   "source": [
    "# Viewing the scaled data set\n",
    "scaled_x"
   ]
  },
  {
   "cell_type": "code",
   "execution_count": 70,
   "id": "72037111",
   "metadata": {},
   "outputs": [],
   "source": [
    "# splitting the data into test and train\n",
    "x_train, x_test, y_train, y_test = train_test_split(x, y, test_size=15, random_state=0)"
   ]
  },
  {
   "cell_type": "code",
   "execution_count": 71,
   "id": "460a05ed",
   "metadata": {},
   "outputs": [],
   "source": [
    "# import model\n",
    "model = RandomForestClassifier(random_state=10)"
   ]
  },
  {
   "cell_type": "code",
   "execution_count": 72,
   "id": "365aa08e",
   "metadata": {},
   "outputs": [
    {
     "data": {
      "text/plain": [
       "RandomForestClassifier(random_state=10)"
      ]
     },
     "execution_count": 72,
     "metadata": {},
     "output_type": "execute_result"
    }
   ],
   "source": [
    "# fit data into model\n",
    "model.fit(x_train, y_train)"
   ]
  },
  {
   "cell_type": "code",
   "execution_count": 73,
   "id": "ff09b270",
   "metadata": {},
   "outputs": [
    {
     "name": "stdout",
     "output_type": "stream",
     "text": [
      "The Accuracy score of the model is 0.8666667\n"
     ]
    }
   ],
   "source": [
    "# Printing the score of the model\n",
    "print('The Accuracy score of the model is ' + str(model.score(x_test, y_test).round(7)))"
   ]
  },
  {
   "cell_type": "markdown",
   "id": "81a0afbb",
   "metadata": {},
   "source": [
    "The accuracy score of the model is 86.7%."
   ]
  },
  {
   "cell_type": "markdown",
   "id": "5edbd770",
   "metadata": {},
   "source": [
    "# Cleaning the test data"
   ]
  },
  {
   "cell_type": "code",
   "execution_count": 74,
   "id": "78537543",
   "metadata": {},
   "outputs": [],
   "source": [
    "# load the test data\n",
    "test_df = pd.read_csv('test.csv')"
   ]
  },
  {
   "cell_type": "code",
   "execution_count": 75,
   "id": "33042d43",
   "metadata": {},
   "outputs": [
    {
     "data": {
      "text/html": [
       "<div>\n",
       "<style scoped>\n",
       "    .dataframe tbody tr th:only-of-type {\n",
       "        vertical-align: middle;\n",
       "    }\n",
       "\n",
       "    .dataframe tbody tr th {\n",
       "        vertical-align: top;\n",
       "    }\n",
       "\n",
       "    .dataframe thead th {\n",
       "        text-align: right;\n",
       "    }\n",
       "</style>\n",
       "<table border=\"1\" class=\"dataframe\">\n",
       "  <thead>\n",
       "    <tr style=\"text-align: right;\">\n",
       "      <th></th>\n",
       "      <th>PassengerId</th>\n",
       "      <th>HomePlanet</th>\n",
       "      <th>CryoSleep</th>\n",
       "      <th>Cabin</th>\n",
       "      <th>Destination</th>\n",
       "      <th>Age</th>\n",
       "      <th>VIP</th>\n",
       "      <th>RoomService</th>\n",
       "      <th>FoodCourt</th>\n",
       "      <th>ShoppingMall</th>\n",
       "      <th>Spa</th>\n",
       "      <th>VRDeck</th>\n",
       "      <th>Name</th>\n",
       "    </tr>\n",
       "  </thead>\n",
       "  <tbody>\n",
       "    <tr>\n",
       "      <th>0</th>\n",
       "      <td>0013_01</td>\n",
       "      <td>Earth</td>\n",
       "      <td>True</td>\n",
       "      <td>G/3/S</td>\n",
       "      <td>TRAPPIST-1e</td>\n",
       "      <td>27.0</td>\n",
       "      <td>False</td>\n",
       "      <td>0.0</td>\n",
       "      <td>0.0</td>\n",
       "      <td>0.0</td>\n",
       "      <td>0.0</td>\n",
       "      <td>0.0</td>\n",
       "      <td>Nelly Carsoning</td>\n",
       "    </tr>\n",
       "    <tr>\n",
       "      <th>1</th>\n",
       "      <td>0018_01</td>\n",
       "      <td>Earth</td>\n",
       "      <td>False</td>\n",
       "      <td>F/4/S</td>\n",
       "      <td>TRAPPIST-1e</td>\n",
       "      <td>19.0</td>\n",
       "      <td>False</td>\n",
       "      <td>0.0</td>\n",
       "      <td>9.0</td>\n",
       "      <td>0.0</td>\n",
       "      <td>2823.0</td>\n",
       "      <td>0.0</td>\n",
       "      <td>Lerome Peckers</td>\n",
       "    </tr>\n",
       "    <tr>\n",
       "      <th>2</th>\n",
       "      <td>0019_01</td>\n",
       "      <td>Europa</td>\n",
       "      <td>True</td>\n",
       "      <td>C/0/S</td>\n",
       "      <td>55 Cancri e</td>\n",
       "      <td>31.0</td>\n",
       "      <td>False</td>\n",
       "      <td>0.0</td>\n",
       "      <td>0.0</td>\n",
       "      <td>0.0</td>\n",
       "      <td>0.0</td>\n",
       "      <td>0.0</td>\n",
       "      <td>Sabih Unhearfus</td>\n",
       "    </tr>\n",
       "    <tr>\n",
       "      <th>3</th>\n",
       "      <td>0021_01</td>\n",
       "      <td>Europa</td>\n",
       "      <td>False</td>\n",
       "      <td>C/1/S</td>\n",
       "      <td>TRAPPIST-1e</td>\n",
       "      <td>38.0</td>\n",
       "      <td>False</td>\n",
       "      <td>0.0</td>\n",
       "      <td>6652.0</td>\n",
       "      <td>0.0</td>\n",
       "      <td>181.0</td>\n",
       "      <td>585.0</td>\n",
       "      <td>Meratz Caltilter</td>\n",
       "    </tr>\n",
       "    <tr>\n",
       "      <th>4</th>\n",
       "      <td>0023_01</td>\n",
       "      <td>Earth</td>\n",
       "      <td>False</td>\n",
       "      <td>F/5/S</td>\n",
       "      <td>TRAPPIST-1e</td>\n",
       "      <td>20.0</td>\n",
       "      <td>False</td>\n",
       "      <td>10.0</td>\n",
       "      <td>0.0</td>\n",
       "      <td>635.0</td>\n",
       "      <td>0.0</td>\n",
       "      <td>0.0</td>\n",
       "      <td>Brence Harperez</td>\n",
       "    </tr>\n",
       "  </tbody>\n",
       "</table>\n",
       "</div>"
      ],
      "text/plain": [
       "  PassengerId HomePlanet CryoSleep  Cabin  Destination   Age    VIP  \\\n",
       "0     0013_01      Earth      True  G/3/S  TRAPPIST-1e  27.0  False   \n",
       "1     0018_01      Earth     False  F/4/S  TRAPPIST-1e  19.0  False   \n",
       "2     0019_01     Europa      True  C/0/S  55 Cancri e  31.0  False   \n",
       "3     0021_01     Europa     False  C/1/S  TRAPPIST-1e  38.0  False   \n",
       "4     0023_01      Earth     False  F/5/S  TRAPPIST-1e  20.0  False   \n",
       "\n",
       "   RoomService  FoodCourt  ShoppingMall     Spa  VRDeck              Name  \n",
       "0          0.0        0.0           0.0     0.0     0.0   Nelly Carsoning  \n",
       "1          0.0        9.0           0.0  2823.0     0.0    Lerome Peckers  \n",
       "2          0.0        0.0           0.0     0.0     0.0   Sabih Unhearfus  \n",
       "3          0.0     6652.0           0.0   181.0   585.0  Meratz Caltilter  \n",
       "4         10.0        0.0         635.0     0.0     0.0   Brence Harperez  "
      ]
     },
     "execution_count": 75,
     "metadata": {},
     "output_type": "execute_result"
    }
   ],
   "source": [
    "# viewing the test data\n",
    "test_df.head()"
   ]
  },
  {
   "cell_type": "code",
   "execution_count": 76,
   "id": "1eebdaef",
   "metadata": {},
   "outputs": [
    {
     "data": {
      "text/plain": [
       "Index(['PassengerId', 'HomePlanet', 'CryoSleep', 'Cabin', 'Destination', 'Age',\n",
       "       'VIP', 'RoomService', 'FoodCourt', 'ShoppingMall', 'Spa', 'VRDeck',\n",
       "       'Name'],\n",
       "      dtype='object')"
      ]
     },
     "execution_count": 76,
     "metadata": {},
     "output_type": "execute_result"
    }
   ],
   "source": [
    "# viewing the columns in the test data\n",
    "test_df.columns"
   ]
  },
  {
   "cell_type": "code",
   "execution_count": 77,
   "id": "288cc907",
   "metadata": {},
   "outputs": [
    {
     "name": "stdout",
     "output_type": "stream",
     "text": [
      "<class 'pandas.core.frame.DataFrame'>\n",
      "RangeIndex: 4277 entries, 0 to 4276\n",
      "Data columns (total 13 columns):\n",
      " #   Column        Non-Null Count  Dtype  \n",
      "---  ------        --------------  -----  \n",
      " 0   PassengerId   4277 non-null   object \n",
      " 1   HomePlanet    4190 non-null   object \n",
      " 2   CryoSleep     4184 non-null   object \n",
      " 3   Cabin         4177 non-null   object \n",
      " 4   Destination   4185 non-null   object \n",
      " 5   Age           4186 non-null   float64\n",
      " 6   VIP           4184 non-null   object \n",
      " 7   RoomService   4195 non-null   float64\n",
      " 8   FoodCourt     4171 non-null   float64\n",
      " 9   ShoppingMall  4179 non-null   float64\n",
      " 10  Spa           4176 non-null   float64\n",
      " 11  VRDeck        4197 non-null   float64\n",
      " 12  Name          4183 non-null   object \n",
      "dtypes: float64(6), object(7)\n",
      "memory usage: 434.5+ KB\n"
     ]
    }
   ],
   "source": [
    "# information about the test_data\n",
    "test_df.info()"
   ]
  },
  {
   "cell_type": "code",
   "execution_count": 78,
   "id": "0df99e8c",
   "metadata": {},
   "outputs": [
    {
     "data": {
      "text/plain": [
       "(4277, 13)"
      ]
     },
     "execution_count": 78,
     "metadata": {},
     "output_type": "execute_result"
    }
   ],
   "source": [
    "test_df.shape"
   ]
  },
  {
   "cell_type": "code",
   "execution_count": 79,
   "id": "8b5a214a",
   "metadata": {},
   "outputs": [
    {
     "data": {
      "text/plain": [
       "PassengerId       0\n",
       "HomePlanet       87\n",
       "CryoSleep        93\n",
       "Cabin           100\n",
       "Destination      92\n",
       "Age              91\n",
       "VIP              93\n",
       "RoomService      82\n",
       "FoodCourt       106\n",
       "ShoppingMall     98\n",
       "Spa             101\n",
       "VRDeck           80\n",
       "Name             94\n",
       "dtype: int64"
      ]
     },
     "execution_count": 79,
     "metadata": {},
     "output_type": "execute_result"
    }
   ],
   "source": [
    "# checking for null values\n",
    "test_df.isnull().sum()"
   ]
  },
  {
   "cell_type": "code",
   "execution_count": 80,
   "id": "e66e7360",
   "metadata": {},
   "outputs": [],
   "source": [
    "# Dividing the cabin number into Deck, Number and Side\n",
    "test_df[['Deck', 'Cabin_num', 'Side']] = test_df['Cabin'].str.split(\"/\", expand=True)"
   ]
  },
  {
   "cell_type": "code",
   "execution_count": 81,
   "id": "648ae7b9",
   "metadata": {},
   "outputs": [],
   "source": [
    "# filling null values in the dataset\n",
    "test_df['HomePlanet'] = test_df['HomePlanet'].fillna('Earth')\n",
    "test_df['CryoSleep'] = test_df['CryoSleep'].fillna(False)\n",
    "test_df['Destination'] = test_df['Destination'].fillna('TRAPPIST-1e')\n",
    "test_df['Age'] = test_df['Age'].fillna(29)\n",
    "test_df['VIP'] = test_df['VIP'].fillna(False)\n",
    "test_df['RoomService'] = test_df['RoomService'].fillna(219.3)\n",
    "test_df['FoodCourt'] = test_df['FoodCourt'].fillna(439.5)\n",
    "test_df['ShoppingMall'] = test_df['ShoppingMall'].fillna(177.3)\n",
    "test_df['Spa'] = test_df['Spa'].fillna(303.1)\n",
    "test_df['VRDeck'] = test_df['VRDeck'].fillna(310.7)"
   ]
  },
  {
   "cell_type": "code",
   "execution_count": 82,
   "id": "cb665880",
   "metadata": {
    "scrolled": true
   },
   "outputs": [
    {
     "data": {
      "text/plain": [
       "4       21\n",
       "31      18\n",
       "197     16\n",
       "294     16\n",
       "228     14\n",
       "        ..\n",
       "1170     1\n",
       "904      1\n",
       "1174     1\n",
       "356      1\n",
       "1503     1\n",
       "Name: Cabin_num, Length: 1505, dtype: int64"
      ]
     },
     "execution_count": 82,
     "metadata": {},
     "output_type": "execute_result"
    }
   ],
   "source": [
    "# Viewing the number that appears the most in the Cabin_num column\n",
    "test_df['Cabin_num'].value_counts()"
   ]
  },
  {
   "cell_type": "code",
   "execution_count": 83,
   "id": "56c1b4a8",
   "metadata": {},
   "outputs": [],
   "source": [
    "# replacing null values in the Cabin_num column with the number that occurs the most\n",
    "test_df['Cabin_num'] = test_df['Cabin_num'].fillna(4)"
   ]
  },
  {
   "cell_type": "code",
   "execution_count": 84,
   "id": "bc07c161",
   "metadata": {},
   "outputs": [],
   "source": [
    "# filling null values in the Deck and Side columns\n",
    "test_df['Deck'] = test_df['Deck'].fillna('F')\n",
    "test_df['Side'] = test_df['Side'].fillna('S')"
   ]
  },
  {
   "cell_type": "code",
   "execution_count": 85,
   "id": "8d4d602a",
   "metadata": {},
   "outputs": [],
   "source": [
    "# converting all categorical columns with numerical elements to numerical columns\n",
    "test_df['PassengerId'] = test_df['PassengerId'].astype(int)\n",
    "test_df['Cabin_num'] = test_df['Cabin_num'].astype(int)"
   ]
  },
  {
   "cell_type": "code",
   "execution_count": 86,
   "id": "cb49d659",
   "metadata": {},
   "outputs": [],
   "source": [
    "# converting all categorical columns with boolean elements to numerical columns\n",
    "test_df['CryoSleep'] = test_df['CryoSleep'].astype(int)\n",
    "test_df['VIP'] = test_df['VIP'].astype(int)"
   ]
  },
  {
   "cell_type": "code",
   "execution_count": 87,
   "id": "5229d2aa",
   "metadata": {},
   "outputs": [],
   "source": [
    "# replacing all text elements with numerical values\n",
    "test_df['HomePlanet'] = test_df['HomePlanet'].replace(planet)\n",
    "test_df['Destination'] = test_df['Destination'].replace(destination)\n",
    "test_df['Deck'] = test_df['Deck'].replace(deck)\n",
    "test_df['Side'] = test_df['Side'].replace(side)"
   ]
  },
  {
   "cell_type": "code",
   "execution_count": 88,
   "id": "408e0675",
   "metadata": {},
   "outputs": [],
   "source": [
    "# Removing the Cabin and Names columns from the Dataset\n",
    "test_df = test_df.drop(['Name', 'Cabin'], axis=1)"
   ]
  },
  {
   "cell_type": "markdown",
   "id": "aeaf48dc",
   "metadata": {},
   "source": [
    "# Predicting outcomes of the test data"
   ]
  },
  {
   "cell_type": "code",
   "execution_count": 89,
   "id": "43d4be12",
   "metadata": {},
   "outputs": [],
   "source": [
    "# Naming the feature columns\n",
    "test = test_df"
   ]
  },
  {
   "cell_type": "code",
   "execution_count": 90,
   "id": "29f2a0b9",
   "metadata": {},
   "outputs": [],
   "source": [
    "# predicting outcomes of the test data into the model\n",
    "Predictions = model.predict(test)"
   ]
  },
  {
   "cell_type": "code",
   "execution_count": 91,
   "id": "e8fa1b6d",
   "metadata": {},
   "outputs": [],
   "source": [
    "# assigning PassengerId to a variable\n",
    "PassengerId = test['PassengerId']"
   ]
  },
  {
   "cell_type": "code",
   "execution_count": 92,
   "id": "f473aa97",
   "metadata": {},
   "outputs": [],
   "source": [
    "# changing numerical values into booleans\n",
    "New_predictions = Predictions.astype(bool)"
   ]
  },
  {
   "cell_type": "code",
   "execution_count": 93,
   "id": "705f9228",
   "metadata": {
    "scrolled": true
   },
   "outputs": [],
   "source": [
    "# converting predictions and PassengerId into data frames\n",
    "outcome = pd.DataFrame({'PassengerId': PassengerId,\n",
    "                       'Transported': New_predictions\n",
    "                       })"
   ]
  },
  {
   "cell_type": "code",
   "execution_count": 94,
   "id": "0959b334",
   "metadata": {
    "scrolled": true
   },
   "outputs": [
    {
     "data": {
      "text/html": [
       "<div>\n",
       "<style scoped>\n",
       "    .dataframe tbody tr th:only-of-type {\n",
       "        vertical-align: middle;\n",
       "    }\n",
       "\n",
       "    .dataframe tbody tr th {\n",
       "        vertical-align: top;\n",
       "    }\n",
       "\n",
       "    .dataframe thead th {\n",
       "        text-align: right;\n",
       "    }\n",
       "</style>\n",
       "<table border=\"1\" class=\"dataframe\">\n",
       "  <thead>\n",
       "    <tr style=\"text-align: right;\">\n",
       "      <th></th>\n",
       "      <th>PassengerId</th>\n",
       "      <th>Transported</th>\n",
       "    </tr>\n",
       "  </thead>\n",
       "  <tbody>\n",
       "    <tr>\n",
       "      <th>0</th>\n",
       "      <td>1301</td>\n",
       "      <td>True</td>\n",
       "    </tr>\n",
       "    <tr>\n",
       "      <th>1</th>\n",
       "      <td>1801</td>\n",
       "      <td>False</td>\n",
       "    </tr>\n",
       "    <tr>\n",
       "      <th>2</th>\n",
       "      <td>1901</td>\n",
       "      <td>True</td>\n",
       "    </tr>\n",
       "    <tr>\n",
       "      <th>3</th>\n",
       "      <td>2101</td>\n",
       "      <td>True</td>\n",
       "    </tr>\n",
       "    <tr>\n",
       "      <th>4</th>\n",
       "      <td>2301</td>\n",
       "      <td>False</td>\n",
       "    </tr>\n",
       "  </tbody>\n",
       "</table>\n",
       "</div>"
      ],
      "text/plain": [
       "   PassengerId  Transported\n",
       "0         1301         True\n",
       "1         1801        False\n",
       "2         1901         True\n",
       "3         2101         True\n",
       "4         2301        False"
      ]
     },
     "execution_count": 94,
     "metadata": {},
     "output_type": "execute_result"
    }
   ],
   "source": [
    "# Viewing the outcome data\n",
    "outcome.head()"
   ]
  },
  {
   "cell_type": "code",
   "execution_count": 95,
   "id": "50e0d28c",
   "metadata": {},
   "outputs": [],
   "source": [
    "# coverting the PassengerId column to string\n",
    "outcome['PassengerId'] = outcome['PassengerId'].astype(str)"
   ]
  },
  {
   "cell_type": "code",
   "execution_count": 96,
   "id": "86b82468",
   "metadata": {},
   "outputs": [
    {
     "data": {
      "text/html": [
       "<div>\n",
       "<style scoped>\n",
       "    .dataframe tbody tr th:only-of-type {\n",
       "        vertical-align: middle;\n",
       "    }\n",
       "\n",
       "    .dataframe tbody tr th {\n",
       "        vertical-align: top;\n",
       "    }\n",
       "\n",
       "    .dataframe thead th {\n",
       "        text-align: right;\n",
       "    }\n",
       "</style>\n",
       "<table border=\"1\" class=\"dataframe\">\n",
       "  <thead>\n",
       "    <tr style=\"text-align: right;\">\n",
       "      <th></th>\n",
       "      <th>PassengerId</th>\n",
       "      <th>Transported</th>\n",
       "    </tr>\n",
       "  </thead>\n",
       "  <tbody>\n",
       "    <tr>\n",
       "      <th>0</th>\n",
       "      <td>0013_01</td>\n",
       "      <td>False</td>\n",
       "    </tr>\n",
       "    <tr>\n",
       "      <th>1</th>\n",
       "      <td>0018_01</td>\n",
       "      <td>False</td>\n",
       "    </tr>\n",
       "    <tr>\n",
       "      <th>2</th>\n",
       "      <td>0019_01</td>\n",
       "      <td>False</td>\n",
       "    </tr>\n",
       "    <tr>\n",
       "      <th>3</th>\n",
       "      <td>0021_01</td>\n",
       "      <td>False</td>\n",
       "    </tr>\n",
       "    <tr>\n",
       "      <th>4</th>\n",
       "      <td>0023_01</td>\n",
       "      <td>False</td>\n",
       "    </tr>\n",
       "  </tbody>\n",
       "</table>\n",
       "</div>"
      ],
      "text/plain": [
       "  PassengerId  Transported\n",
       "0     0013_01        False\n",
       "1     0018_01        False\n",
       "2     0019_01        False\n",
       "3     0021_01        False\n",
       "4     0023_01        False"
      ]
     },
     "execution_count": 96,
     "metadata": {},
     "output_type": "execute_result"
    }
   ],
   "source": [
    "# loading the sample submission sample\n",
    "sample = pd.read_csv('Sample.csv')\n",
    "sample.head()"
   ]
  },
  {
   "cell_type": "code",
   "execution_count": 97,
   "id": "823e49f5",
   "metadata": {},
   "outputs": [],
   "source": [
    "# replacing the Trnasported column with our predictions\n",
    "sample['Transported'] = New_predictions"
   ]
  },
  {
   "cell_type": "code",
   "execution_count": 98,
   "id": "01ead951",
   "metadata": {},
   "outputs": [
    {
     "data": {
      "text/html": [
       "<div>\n",
       "<style scoped>\n",
       "    .dataframe tbody tr th:only-of-type {\n",
       "        vertical-align: middle;\n",
       "    }\n",
       "\n",
       "    .dataframe tbody tr th {\n",
       "        vertical-align: top;\n",
       "    }\n",
       "\n",
       "    .dataframe thead th {\n",
       "        text-align: right;\n",
       "    }\n",
       "</style>\n",
       "<table border=\"1\" class=\"dataframe\">\n",
       "  <thead>\n",
       "    <tr style=\"text-align: right;\">\n",
       "      <th></th>\n",
       "      <th>PassengerId</th>\n",
       "      <th>Transported</th>\n",
       "    </tr>\n",
       "  </thead>\n",
       "  <tbody>\n",
       "    <tr>\n",
       "      <th>0</th>\n",
       "      <td>0013_01</td>\n",
       "      <td>True</td>\n",
       "    </tr>\n",
       "    <tr>\n",
       "      <th>1</th>\n",
       "      <td>0018_01</td>\n",
       "      <td>False</td>\n",
       "    </tr>\n",
       "    <tr>\n",
       "      <th>2</th>\n",
       "      <td>0019_01</td>\n",
       "      <td>True</td>\n",
       "    </tr>\n",
       "    <tr>\n",
       "      <th>3</th>\n",
       "      <td>0021_01</td>\n",
       "      <td>True</td>\n",
       "    </tr>\n",
       "    <tr>\n",
       "      <th>4</th>\n",
       "      <td>0023_01</td>\n",
       "      <td>False</td>\n",
       "    </tr>\n",
       "  </tbody>\n",
       "</table>\n",
       "</div>"
      ],
      "text/plain": [
       "  PassengerId  Transported\n",
       "0     0013_01         True\n",
       "1     0018_01        False\n",
       "2     0019_01         True\n",
       "3     0021_01         True\n",
       "4     0023_01        False"
      ]
     },
     "execution_count": 98,
     "metadata": {},
     "output_type": "execute_result"
    }
   ],
   "source": [
    "# viewing the sample data\n",
    "sample.head()"
   ]
  },
  {
   "cell_type": "code",
   "execution_count": 99,
   "id": "401e8df0",
   "metadata": {},
   "outputs": [],
   "source": [
    "# Storing the outcome as a csv file\n",
    "sample.to_csv('sample_submission.csv', index = False)"
   ]
  },
  {
   "cell_type": "code",
   "execution_count": 100,
   "id": "20bf1e83",
   "metadata": {
    "scrolled": true
   },
   "outputs": [
    {
     "data": {
      "text/html": [
       "<div>\n",
       "<style scoped>\n",
       "    .dataframe tbody tr th:only-of-type {\n",
       "        vertical-align: middle;\n",
       "    }\n",
       "\n",
       "    .dataframe tbody tr th {\n",
       "        vertical-align: top;\n",
       "    }\n",
       "\n",
       "    .dataframe thead th {\n",
       "        text-align: right;\n",
       "    }\n",
       "</style>\n",
       "<table border=\"1\" class=\"dataframe\">\n",
       "  <thead>\n",
       "    <tr style=\"text-align: right;\">\n",
       "      <th></th>\n",
       "      <th>PassengerId</th>\n",
       "      <th>Transported</th>\n",
       "    </tr>\n",
       "  </thead>\n",
       "  <tbody>\n",
       "    <tr>\n",
       "      <th>0</th>\n",
       "      <td>0013_01</td>\n",
       "      <td>True</td>\n",
       "    </tr>\n",
       "    <tr>\n",
       "      <th>1</th>\n",
       "      <td>0018_01</td>\n",
       "      <td>False</td>\n",
       "    </tr>\n",
       "    <tr>\n",
       "      <th>2</th>\n",
       "      <td>0019_01</td>\n",
       "      <td>True</td>\n",
       "    </tr>\n",
       "    <tr>\n",
       "      <th>3</th>\n",
       "      <td>0021_01</td>\n",
       "      <td>True</td>\n",
       "    </tr>\n",
       "    <tr>\n",
       "      <th>4</th>\n",
       "      <td>0023_01</td>\n",
       "      <td>False</td>\n",
       "    </tr>\n",
       "  </tbody>\n",
       "</table>\n",
       "</div>"
      ],
      "text/plain": [
       "  PassengerId  Transported\n",
       "0     0013_01         True\n",
       "1     0018_01        False\n",
       "2     0019_01         True\n",
       "3     0021_01         True\n",
       "4     0023_01        False"
      ]
     },
     "execution_count": 100,
     "metadata": {},
     "output_type": "execute_result"
    }
   ],
   "source": [
    "# Viewing the submission data\n",
    "pd.read_csv('sample_submission.csv').head()"
   ]
  },
  {
   "cell_type": "code",
   "execution_count": 101,
   "id": "eaa91087",
   "metadata": {},
   "outputs": [
    {
     "name": "stdout",
     "output_type": "stream",
     "text": [
      "<class 'pandas.core.frame.DataFrame'>\n",
      "RangeIndex: 4277 entries, 0 to 4276\n",
      "Data columns (total 2 columns):\n",
      " #   Column       Non-Null Count  Dtype \n",
      "---  ------       --------------  ----- \n",
      " 0   PassengerId  4277 non-null   object\n",
      " 1   Transported  4277 non-null   bool  \n",
      "dtypes: bool(1), object(1)\n",
      "memory usage: 37.7+ KB\n"
     ]
    }
   ],
   "source": [
    "# viewing information about the data\n",
    "sample.info()"
   ]
  },
  {
   "cell_type": "code",
   "execution_count": 102,
   "id": "ce8a862f",
   "metadata": {},
   "outputs": [
    {
     "data": {
      "text/plain": [
       "(4277, 2)"
      ]
     },
     "execution_count": 102,
     "metadata": {},
     "output_type": "execute_result"
    }
   ],
   "source": [
    "sample.shape"
   ]
  }
 ],
 "metadata": {
  "kernelspec": {
   "display_name": "Python 3 (ipykernel)",
   "language": "python",
   "name": "python3"
  },
  "language_info": {
   "codemirror_mode": {
    "name": "ipython",
    "version": 3
   },
   "file_extension": ".py",
   "mimetype": "text/x-python",
   "name": "python",
   "nbconvert_exporter": "python",
   "pygments_lexer": "ipython3",
   "version": "3.9.12"
  }
 },
 "nbformat": 4,
 "nbformat_minor": 5
}
