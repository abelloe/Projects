{
 "cells": [
  {
   "cell_type": "code",
   "execution_count": 1,
   "id": "eaad1f29",
   "metadata": {},
   "outputs": [],
   "source": [
    "# import libraries\n",
    "import pandas as pd\n",
    "import numpy as np\n",
    "import matplotlib.pyplot as plt\n",
    "import seaborn as sns"
   ]
  },
  {
   "cell_type": "code",
   "execution_count": 2,
   "id": "ffb50646",
   "metadata": {},
   "outputs": [],
   "source": [
    "# importing the dataset \n",
    "potus_df = pd.read_csv('US-Presidents.csv')"
   ]
  },
  {
   "cell_type": "code",
   "execution_count": 3,
   "id": "9a408560",
   "metadata": {},
   "outputs": [
    {
     "data": {
      "text/html": [
       "<div>\n",
       "<style scoped>\n",
       "    .dataframe tbody tr th:only-of-type {\n",
       "        vertical-align: middle;\n",
       "    }\n",
       "\n",
       "    .dataframe tbody tr th {\n",
       "        vertical-align: top;\n",
       "    }\n",
       "\n",
       "    .dataframe thead th {\n",
       "        text-align: right;\n",
       "    }\n",
       "</style>\n",
       "<table border=\"1\" class=\"dataframe\">\n",
       "  <thead>\n",
       "    <tr style=\"text-align: right;\">\n",
       "      <th></th>\n",
       "      <th>No.</th>\n",
       "      <th>President</th>\n",
       "      <th>Born</th>\n",
       "      <th>start of presidency</th>\n",
       "      <th>end of presidency</th>\n",
       "      <th>Post-presidency</th>\n",
       "      <th>Died</th>\n",
       "      <th>Age</th>\n",
       "      <th>Net worth((millions of 2022 US$))</th>\n",
       "      <th>Political party[11]</th>\n",
       "      <th>...</th>\n",
       "      <th>Weight (lbs)</th>\n",
       "      <th>Number of kids</th>\n",
       "      <th>Number of marriages</th>\n",
       "      <th>State</th>\n",
       "      <th>Ethnic Origin</th>\n",
       "      <th>Religion(s)</th>\n",
       "      <th>% of Budget Allocated to Defense</th>\n",
       "      <th>Wars During Tenure</th>\n",
       "      <th>Education</th>\n",
       "      <th>Degree</th>\n",
       "    </tr>\n",
       "  </thead>\n",
       "  <tbody>\n",
       "    <tr>\n",
       "      <th>0</th>\n",
       "      <td>1</td>\n",
       "      <td>George Washington</td>\n",
       "      <td>Feb 22, 1732[a]</td>\n",
       "      <td>57 years, 67 days</td>\n",
       "      <td>65 years, 10 days</td>\n",
       "      <td>2 years, 285 days</td>\n",
       "      <td>Dec 14, 1799</td>\n",
       "      <td>67 years, 295 days</td>\n",
       "      <td>707</td>\n",
       "      <td>None/Independent</td>\n",
       "      <td>...</td>\n",
       "      <td>175</td>\n",
       "      <td>0</td>\n",
       "      <td>1</td>\n",
       "      <td>Virginia</td>\n",
       "      <td>English, other European</td>\n",
       "      <td>Episcopal</td>\n",
       "      <td>NaN</td>\n",
       "      <td>None</td>\n",
       "      <td>No formal education</td>\n",
       "      <td>NaN</td>\n",
       "    </tr>\n",
       "    <tr>\n",
       "      <th>1</th>\n",
       "      <td>2</td>\n",
       "      <td>John Adams</td>\n",
       "      <td>Oct 30, 1735[a]</td>\n",
       "      <td>61 years, 125 days</td>\n",
       "      <td>65 years, 125 days</td>\n",
       "      <td>25 years, 122 days</td>\n",
       "      <td>Jul 4, 1826</td>\n",
       "      <td>90 years, 247 days</td>\n",
       "      <td>25</td>\n",
       "      <td>Federalist</td>\n",
       "      <td>...</td>\n",
       "      <td>165</td>\n",
       "      <td>5</td>\n",
       "      <td>1</td>\n",
       "      <td>Massachusetts</td>\n",
       "      <td>English, other European</td>\n",
       "      <td>Congregationalist, Unitarian</td>\n",
       "      <td>NaN</td>\n",
       "      <td>Quasi-War with France</td>\n",
       "      <td>Harvard College (graduated in 1755)</td>\n",
       "      <td>A.B.</td>\n",
       "    </tr>\n",
       "    <tr>\n",
       "      <th>2</th>\n",
       "      <td>3</td>\n",
       "      <td>Thomas Jefferson</td>\n",
       "      <td>Apr 13, 1743[a]</td>\n",
       "      <td>57 years, 325 days</td>\n",
       "      <td>65 years, 325 days</td>\n",
       "      <td>17 years, 122 days</td>\n",
       "      <td>Jul 4, 1826</td>\n",
       "      <td>83 years, 82 days</td>\n",
       "      <td>284</td>\n",
       "      <td>Democratic-Republican</td>\n",
       "      <td>...</td>\n",
       "      <td>175</td>\n",
       "      <td>6</td>\n",
       "      <td>1</td>\n",
       "      <td>Virginia</td>\n",
       "      <td>English, Scottish, Welsh</td>\n",
       "      <td>Episcopalian, Unitarian, Deist</td>\n",
       "      <td>8.60%</td>\n",
       "      <td>Barbary Wars</td>\n",
       "      <td>The College of William &amp; Mary (graduated in 1762)</td>\n",
       "      <td>B.A.</td>\n",
       "    </tr>\n",
       "    <tr>\n",
       "      <th>3</th>\n",
       "      <td>4</td>\n",
       "      <td>James Madison</td>\n",
       "      <td>Mar 16, 1751[a]</td>\n",
       "      <td>57 years, 353 days</td>\n",
       "      <td>65 years, 353 days</td>\n",
       "      <td>19 years, 116 days</td>\n",
       "      <td>Jun 28, 1836</td>\n",
       "      <td>85 years, 104 days</td>\n",
       "      <td>136</td>\n",
       "      <td>Democratic-Republican</td>\n",
       "      <td>...</td>\n",
       "      <td>100</td>\n",
       "      <td>0</td>\n",
       "      <td>1</td>\n",
       "      <td>Virginia</td>\n",
       "      <td>English</td>\n",
       "      <td>Episcopalian</td>\n",
       "      <td>67.10%</td>\n",
       "      <td>War of 1812</td>\n",
       "      <td>The College of New Jersey (now Princeton Unive...</td>\n",
       "      <td>B.A.</td>\n",
       "    </tr>\n",
       "    <tr>\n",
       "      <th>4</th>\n",
       "      <td>5</td>\n",
       "      <td>James Monroe</td>\n",
       "      <td>Apr 28, 1758</td>\n",
       "      <td>58 years, 310 days</td>\n",
       "      <td>66 years, 310 days</td>\n",
       "      <td>6 years, 122 days</td>\n",
       "      <td>Jul 4, 1831</td>\n",
       "      <td>73 years, 67 days</td>\n",
       "      <td>36</td>\n",
       "      <td>Democratic-Republican</td>\n",
       "      <td>...</td>\n",
       "      <td>190</td>\n",
       "      <td>3</td>\n",
       "      <td>1</td>\n",
       "      <td>Virginia</td>\n",
       "      <td>Scottish, Welsh</td>\n",
       "      <td>Episcopalian</td>\n",
       "      <td>NaN</td>\n",
       "      <td>None</td>\n",
       "      <td>The College of William &amp; Mary (did not graduate)</td>\n",
       "      <td>NaN</td>\n",
       "    </tr>\n",
       "  </tbody>\n",
       "</table>\n",
       "<p>5 rows × 24 columns</p>\n",
       "</div>"
      ],
      "text/plain": [
       "   No.          President             Born start of presidency  \\\n",
       "0    1  George Washington  Feb 22, 1732[a]   57 years, 67 days   \n",
       "1    2         John Adams  Oct 30, 1735[a]  61 years, 125 days   \n",
       "2    3   Thomas Jefferson  Apr 13, 1743[a]  57 years, 325 days   \n",
       "3    4      James Madison  Mar 16, 1751[a]  57 years, 353 days   \n",
       "4    5       James Monroe     Apr 28, 1758  58 years, 310 days   \n",
       "\n",
       "    end of presidency     Post-presidency          Died                 Age  \\\n",
       "0   65 years, 10 days   2 years, 285 days  Dec 14, 1799  67 years, 295 days   \n",
       "1  65 years, 125 days  25 years, 122 days   Jul 4, 1826  90 years, 247 days   \n",
       "2  65 years, 325 days  17 years, 122 days   Jul 4, 1826   83 years, 82 days   \n",
       "3  65 years, 353 days  19 years, 116 days  Jun 28, 1836  85 years, 104 days   \n",
       "4  66 years, 310 days   6 years, 122 days   Jul 4, 1831   73 years, 67 days   \n",
       "\n",
       "  Net worth((millions of 2022 US$))    Political party[11]  ... Weight (lbs)  \\\n",
       "0                               707       None/Independent  ...          175   \n",
       "1                                25             Federalist  ...          165   \n",
       "2                               284  Democratic-Republican  ...          175   \n",
       "3                               136  Democratic-Republican  ...          100   \n",
       "4                                36  Democratic-Republican  ...          190   \n",
       "\n",
       "  Number of kids Number of marriages          State             Ethnic Origin  \\\n",
       "0              0                   1       Virginia   English, other European   \n",
       "1              5                   1  Massachusetts   English, other European   \n",
       "2              6                   1       Virginia  English, Scottish, Welsh   \n",
       "3              0                   1       Virginia                   English   \n",
       "4              3                   1       Virginia           Scottish, Welsh   \n",
       "\n",
       "                      Religion(s)  % of Budget Allocated to Defense  \\\n",
       "0                       Episcopal                               NaN   \n",
       "1    Congregationalist, Unitarian                               NaN   \n",
       "2  Episcopalian, Unitarian, Deist                             8.60%   \n",
       "3                    Episcopalian                            67.10%   \n",
       "4                    Episcopalian                               NaN   \n",
       "\n",
       "      Wars During Tenure                                          Education  \\\n",
       "0                   None                                No formal education   \n",
       "1  Quasi-War with France                Harvard College (graduated in 1755)   \n",
       "2           Barbary Wars  The College of William & Mary (graduated in 1762)   \n",
       "3            War of 1812  The College of New Jersey (now Princeton Unive...   \n",
       "4                   None   The College of William & Mary (did not graduate)   \n",
       "\n",
       "  Degree  \n",
       "0    NaN  \n",
       "1   A.B.  \n",
       "2   B.A.  \n",
       "3   B.A.  \n",
       "4    NaN  \n",
       "\n",
       "[5 rows x 24 columns]"
      ]
     },
     "execution_count": 3,
     "metadata": {},
     "output_type": "execute_result"
    }
   ],
   "source": [
    "# viewing the first five rows of the dataset\n",
    "potus_df.head(5)"
   ]
  },
  {
   "cell_type": "code",
   "execution_count": 4,
   "id": "c2aa388e",
   "metadata": {},
   "outputs": [
    {
     "name": "stdout",
     "output_type": "stream",
     "text": [
      "<class 'pandas.core.frame.DataFrame'>\n",
      "RangeIndex: 46 entries, 0 to 45\n",
      "Data columns (total 24 columns):\n",
      " #   Column                             Non-Null Count  Dtype \n",
      "---  ------                             --------------  ----- \n",
      " 0   No.                                46 non-null     int64 \n",
      " 1   President                          46 non-null     object\n",
      " 2   Born                               46 non-null     object\n",
      " 3   start of presidency                46 non-null     object\n",
      " 4   end of presidency                  46 non-null     object\n",
      " 5   Post-presidency                    46 non-null     object\n",
      " 6   Died                               46 non-null     object\n",
      " 7   Age                                46 non-null     object\n",
      " 8   Net worth((millions of 2022 US$))  46 non-null     object\n",
      " 9   Political party[11]                46 non-null     object\n",
      " 10  Years in office                    46 non-null     object\n",
      " 11  IQ                                 41 non-null     object\n",
      " 12  Height (ft)                        46 non-null     object\n",
      " 13  Height (cm)                        46 non-null     int64 \n",
      " 14  Weight (lbs)                       46 non-null     int64 \n",
      " 15  Number of kids                     46 non-null     int64 \n",
      " 16  Number of marriages                46 non-null     int64 \n",
      " 17  State                              46 non-null     object\n",
      " 18  Ethnic Origin                      46 non-null     object\n",
      " 19  Religion(s)                        46 non-null     object\n",
      " 20  % of Budget Allocated to Defense   31 non-null     object\n",
      " 21  Wars During Tenure                 46 non-null     object\n",
      " 22  Education                          46 non-null     object\n",
      " 23  Degree                             30 non-null     object\n",
      "dtypes: int64(5), object(19)\n",
      "memory usage: 8.8+ KB\n"
     ]
    }
   ],
   "source": [
    "# obtaining information about the data set\n",
    "potus_df.info()"
   ]
  },
  {
   "cell_type": "markdown",
   "id": "05a6459d",
   "metadata": {},
   "source": [
    "It can be seen from the table above that, the columns \"IQ\", \" % of Budget Allocated to Defense\" and \"Degree\" contain null values. Hence, these null values must be replaced."
   ]
  },
  {
   "cell_type": "code",
   "execution_count": 5,
   "id": "16a3bd35",
   "metadata": {},
   "outputs": [
    {
     "data": {
      "text/html": [
       "<div>\n",
       "<style scoped>\n",
       "    .dataframe tbody tr th:only-of-type {\n",
       "        vertical-align: middle;\n",
       "    }\n",
       "\n",
       "    .dataframe tbody tr th {\n",
       "        vertical-align: top;\n",
       "    }\n",
       "\n",
       "    .dataframe thead th {\n",
       "        text-align: right;\n",
       "    }\n",
       "</style>\n",
       "<table border=\"1\" class=\"dataframe\">\n",
       "  <thead>\n",
       "    <tr style=\"text-align: right;\">\n",
       "      <th></th>\n",
       "      <th>No.</th>\n",
       "      <th>Height (cm)</th>\n",
       "      <th>Weight (lbs)</th>\n",
       "      <th>Number of kids</th>\n",
       "      <th>Number of marriages</th>\n",
       "    </tr>\n",
       "  </thead>\n",
       "  <tbody>\n",
       "    <tr>\n",
       "      <th>count</th>\n",
       "      <td>46.000000</td>\n",
       "      <td>46.000000</td>\n",
       "      <td>46.000000</td>\n",
       "      <td>46.000000</td>\n",
       "      <td>46.000000</td>\n",
       "    </tr>\n",
       "    <tr>\n",
       "      <th>mean</th>\n",
       "      <td>23.500000</td>\n",
       "      <td>179.782609</td>\n",
       "      <td>188.978261</td>\n",
       "      <td>3.760870</td>\n",
       "      <td>1.195652</td>\n",
       "    </tr>\n",
       "    <tr>\n",
       "      <th>std</th>\n",
       "      <td>13.422618</td>\n",
       "      <td>6.940743</td>\n",
       "      <td>36.227362</td>\n",
       "      <td>2.790339</td>\n",
       "      <td>0.453116</td>\n",
       "    </tr>\n",
       "    <tr>\n",
       "      <th>min</th>\n",
       "      <td>1.000000</td>\n",
       "      <td>163.000000</td>\n",
       "      <td>100.000000</td>\n",
       "      <td>0.000000</td>\n",
       "      <td>1.000000</td>\n",
       "    </tr>\n",
       "    <tr>\n",
       "      <th>25%</th>\n",
       "      <td>12.250000</td>\n",
       "      <td>173.500000</td>\n",
       "      <td>171.250000</td>\n",
       "      <td>2.000000</td>\n",
       "      <td>1.000000</td>\n",
       "    </tr>\n",
       "    <tr>\n",
       "      <th>50%</th>\n",
       "      <td>23.500000</td>\n",
       "      <td>180.000000</td>\n",
       "      <td>185.000000</td>\n",
       "      <td>3.500000</td>\n",
       "      <td>1.000000</td>\n",
       "    </tr>\n",
       "    <tr>\n",
       "      <th>75%</th>\n",
       "      <td>34.750000</td>\n",
       "      <td>184.500000</td>\n",
       "      <td>191.750000</td>\n",
       "      <td>5.000000</td>\n",
       "      <td>1.000000</td>\n",
       "    </tr>\n",
       "    <tr>\n",
       "      <th>max</th>\n",
       "      <td>46.000000</td>\n",
       "      <td>193.000000</td>\n",
       "      <td>340.000000</td>\n",
       "      <td>15.000000</td>\n",
       "      <td>3.000000</td>\n",
       "    </tr>\n",
       "  </tbody>\n",
       "</table>\n",
       "</div>"
      ],
      "text/plain": [
       "             No.  Height (cm)  Weight (lbs)  Number of kids  \\\n",
       "count  46.000000    46.000000     46.000000       46.000000   \n",
       "mean   23.500000   179.782609    188.978261        3.760870   \n",
       "std    13.422618     6.940743     36.227362        2.790339   \n",
       "min     1.000000   163.000000    100.000000        0.000000   \n",
       "25%    12.250000   173.500000    171.250000        2.000000   \n",
       "50%    23.500000   180.000000    185.000000        3.500000   \n",
       "75%    34.750000   184.500000    191.750000        5.000000   \n",
       "max    46.000000   193.000000    340.000000       15.000000   \n",
       "\n",
       "       Number of marriages  \n",
       "count            46.000000  \n",
       "mean              1.195652  \n",
       "std               0.453116  \n",
       "min               1.000000  \n",
       "25%               1.000000  \n",
       "50%               1.000000  \n",
       "75%               1.000000  \n",
       "max               3.000000  "
      ]
     },
     "execution_count": 5,
     "metadata": {},
     "output_type": "execute_result"
    }
   ],
   "source": [
    "#obtaining statiscal parameters from the dataset\n",
    "potus_df.describe()"
   ]
  },
  {
   "cell_type": "markdown",
   "id": "f9d0cd11",
   "metadata": {},
   "source": [
    "The table above shows the statiscal parameters of the numerical columns of the data set"
   ]
  },
  {
   "cell_type": "code",
   "execution_count": 6,
   "id": "ffae9d23",
   "metadata": {},
   "outputs": [
    {
     "data": {
      "text/plain": [
       "Index(['No.', 'President', 'Born', 'start of presidency', 'end of presidency',\n",
       "       'Post-presidency', 'Died', 'Age', 'Net worth((millions of 2022 US$))',\n",
       "       'Political party[11]', 'Years in office', 'IQ', 'Height (ft)',\n",
       "       'Height (cm)', 'Weight (lbs)', 'Number of kids', 'Number of marriages',\n",
       "       'State', 'Ethnic Origin', 'Religion(s)',\n",
       "       '% of Budget Allocated to Defense', 'Wars During Tenure', 'Education',\n",
       "       'Degree'],\n",
       "      dtype='object')"
      ]
     },
     "execution_count": 6,
     "metadata": {},
     "output_type": "execute_result"
    }
   ],
   "source": [
    "# the names of all columns\n",
    "potus_df.columns"
   ]
  },
  {
   "cell_type": "markdown",
   "id": "aab6a684",
   "metadata": {},
   "source": [
    "# Univariate Analysis"
   ]
  },
  {
   "cell_type": "markdown",
   "id": "a317f108",
   "metadata": {},
   "source": [
    "## Number column"
   ]
  },
  {
   "cell_type": "code",
   "execution_count": 7,
   "id": "8b518b29",
   "metadata": {},
   "outputs": [
    {
     "data": {
      "text/plain": [
       "array([ 1,  2,  3,  4,  5,  6,  7,  8,  9, 10, 11, 12, 13, 14, 15, 16, 17,\n",
       "       18, 19, 20, 21, 22, 23, 24, 25, 26, 27, 28, 29, 30, 31, 32, 33, 34,\n",
       "       35, 36, 37, 38, 39, 40, 41, 42, 43, 44, 45, 46], dtype=int64)"
      ]
     },
     "execution_count": 7,
     "metadata": {},
     "output_type": "execute_result"
    }
   ],
   "source": [
    "np.array(potus_df['No.'])"
   ]
  },
  {
   "cell_type": "markdown",
   "id": "19e6b213",
   "metadata": {},
   "source": [
    "Every president is represented by a unique number."
   ]
  },
  {
   "cell_type": "markdown",
   "id": "1dd795a6",
   "metadata": {},
   "source": [
    "## President column"
   ]
  },
  {
   "cell_type": "code",
   "execution_count": 8,
   "id": "e55230e6",
   "metadata": {},
   "outputs": [
    {
     "data": {
      "text/plain": [
       "array(['George Washington', 'John Adams', 'Thomas Jefferson',\n",
       "       'James Madison', 'James Monroe', 'John Quincy Adams',\n",
       "       'Andrew Jackson', 'Martin Van Buren', 'William Henry Harrison',\n",
       "       'John Tyler', 'James K. Polk', 'Zachary Taylor',\n",
       "       'Millard Fillmore', 'Franklin Pierce', 'James Buchanan',\n",
       "       'Abraham Lincoln', 'Andrew Johnson', 'Ulysses S. Grant',\n",
       "       'Rutherford B. Hayes', 'James A. Garfield', 'Chester A. Arthur',\n",
       "       'Grover Cleveland', 'Benjamin Harrison', 'Grover Cleveland',\n",
       "       'William McKinley', 'Theodore Roosevelt', 'William Howard Taft',\n",
       "       'Woodrow Wilson', 'Warren G. Harding', 'Calvin Coolidge',\n",
       "       'Herbert Hoover', 'Franklin D. Roosevelt', 'Harry S. Truman',\n",
       "       'Dwight D. Eisenhower', 'John F. Kennedy', 'Lyndon B. Johnson',\n",
       "       'Richard Nixon', 'Gerald Ford', 'Jimmy Carter', 'Ronald Reagan',\n",
       "       'George H. W. Bush', 'Bill Clinton', 'George W. Bush',\n",
       "       'Barack Obama', 'Donald Trump', 'Joe Biden'], dtype=object)"
      ]
     },
     "execution_count": 8,
     "metadata": {},
     "output_type": "execute_result"
    }
   ],
   "source": [
    "np.array(potus_df['President'])"
   ]
  },
  {
   "cell_type": "markdown",
   "id": "1b793f0e",
   "metadata": {},
   "source": [
    "Since a name could appear more than once in this column, the names are not unique in identifying the president. Hence, we may drop the name column in further analysis and use the 'Number' instead."
   ]
  },
  {
   "cell_type": "markdown",
   "id": "8cb98054",
   "metadata": {},
   "source": [
    "## Date of birth"
   ]
  },
  {
   "cell_type": "code",
   "execution_count": 9,
   "id": "d642248a",
   "metadata": {},
   "outputs": [
    {
     "data": {
      "text/plain": [
       "0     Feb 22, 1732[a]\n",
       "1     Oct 30, 1735[a]\n",
       "2     Apr 13, 1743[a]\n",
       "3     Mar 16, 1751[a]\n",
       "4        Apr 28, 1758\n",
       "5        Jul 11, 1767\n",
       "6        Mar 15, 1767\n",
       "7         Dec 5, 1782\n",
       "8         Feb 9, 1773\n",
       "9        Mar 29, 1790\n",
       "10        Nov 2, 1795\n",
       "11       Nov 24, 1784\n",
       "12        Jan 7, 1800\n",
       "13       Nov 23, 1804\n",
       "14       Apr 23, 1791\n",
       "15       Feb 12, 1809\n",
       "16       Dec 29, 1808\n",
       "17       Apr 27, 1822\n",
       "18        Oct 4, 1822\n",
       "19       Nov 19, 1831\n",
       "20        Oct 5, 1829\n",
       "21       Mar 18, 1837\n",
       "22       Aug 20, 1833\n",
       "23       Mar 18, 1837\n",
       "24       Jan 29, 1843\n",
       "25       Oct 27, 1858\n",
       "26       Sep 15, 1857\n",
       "27       Dec 28, 1856\n",
       "28        Nov 2, 1865\n",
       "29        Jul 4, 1872\n",
       "30       Aug 10, 1874\n",
       "31       Jan 30, 1882\n",
       "32        May 8, 1884\n",
       "33       Oct 14, 1890\n",
       "34          29-May-17\n",
       "35          27-Aug-08\n",
       "36           9-Jan-13\n",
       "37          14-Jul-13\n",
       "38           1-Oct-24\n",
       "39           6-Feb-11\n",
       "40          12-Jun-24\n",
       "41          19-Aug-46\n",
       "42           6-Jul-46\n",
       "43           4-Aug-61\n",
       "44          14-Jun-46\n",
       "45          20-Nov-42\n",
       "Name: Born, dtype: object"
      ]
     },
     "execution_count": 9,
     "metadata": {},
     "output_type": "execute_result"
    }
   ],
   "source": [
    "# viewing the date of birth column\n",
    "DOB = potus_df['Born']\n",
    "DOB"
   ]
  },
  {
   "cell_type": "markdown",
   "id": "db3188e8",
   "metadata": {},
   "source": [
    "## Start of presidency"
   ]
  },
  {
   "cell_type": "code",
   "execution_count": 10,
   "id": "873f3f1f",
   "metadata": {},
   "outputs": [
    {
     "data": {
      "text/plain": [
       "0      57 years, 67 days\n",
       "1     61 years, 125 days\n",
       "2     57 years, 325 days\n",
       "3     57 years, 353 days\n",
       "4     58 years, 310 days\n",
       "5     57 years, 236 days\n",
       "6     61 years, 354 days\n",
       "7      54 years, 89 days\n",
       "8      68 years, 23 days\n",
       "9       51 years, 6 days\n",
       "10    49 years, 122 days\n",
       "11    64 years, 100 days\n",
       "12    50 years, 183 days\n",
       "13    48 years, 101 days\n",
       "14    65 years, 315 days\n",
       "15     52 years, 20 days\n",
       "16    56 years, 107 days\n",
       "17    46 years, 311 days\n",
       "18    54 years, 151 days\n",
       "19    49 years, 105 days\n",
       "20    51 years, 349 days\n",
       "21    47 years, 351 days\n",
       "22    55 years, 196 days\n",
       "23    55 years, 351 days\n",
       "24     54 years, 34 days\n",
       "25    42 years, 322 days\n",
       "26    51 years, 170 days\n",
       "27     56 years, 66 days\n",
       "28    55 years, 122 days\n",
       "29     51 years, 29 days\n",
       "30    54 years, 206 days\n",
       "31     51 years, 33 days\n",
       "32    60 years, 339 days\n",
       "33     62 years, 98 days\n",
       "34    43 years, 236 days\n",
       "35     55 years, 87 days\n",
       "36     56 years, 11 days\n",
       "37     61 years, 26 days\n",
       "38    52 years, 111 days\n",
       "39    69 years, 349 days\n",
       "40    64 years, 222 days\n",
       "41    46 years, 154 days\n",
       "42    54 years, 198 days\n",
       "43    47 years, 169 days\n",
       "44    70 years, 220 days\n",
       "45     78 years, 61 days\n",
       "Name: start of presidency, dtype: object"
      ]
     },
     "execution_count": 10,
     "metadata": {},
     "output_type": "execute_result"
    }
   ],
   "source": [
    "# start of presidency column\n",
    "potus_df['start of presidency']"
   ]
  },
  {
   "cell_type": "markdown",
   "id": "ec9782aa",
   "metadata": {},
   "source": [
    "## En dof presidency"
   ]
  },
  {
   "cell_type": "code",
   "execution_count": 11,
   "id": "cfe53438",
   "metadata": {
    "scrolled": true
   },
   "outputs": [
    {
     "data": {
      "text/plain": [
       "0      65 years, 10 days\n",
       "1     65 years, 125 days\n",
       "2     65 years, 325 days\n",
       "3     65 years, 353 days\n",
       "4     66 years, 310 days\n",
       "5     61 years, 236 days\n",
       "6     69 years, 354 days\n",
       "7      58 years, 89 days\n",
       "8      68 years, 54 days\n",
       "9     54 years, 340 days\n",
       "10    53 years, 122 days\n",
       "11    65 years, 227 days\n",
       "12     53 years, 56 days\n",
       "13    52 years, 101 days\n",
       "14    69 years, 315 days\n",
       "15     56 years, 62 days\n",
       "16     60 years, 65 days\n",
       "17    54 years, 311 days\n",
       "18    58 years, 151 days\n",
       "19    49 years, 304 days\n",
       "20    55 years, 150 days\n",
       "21    51 years, 351 days\n",
       "22    59 years, 196 days\n",
       "23    59 years, 351 days\n",
       "24    58 years, 228 days\n",
       "25    50 years, 128 days\n",
       "26    55 years, 170 days\n",
       "27     64 years, 66 days\n",
       "28    57 years, 273 days\n",
       "29    56 years, 243 days\n",
       "30    58 years, 206 days\n",
       "31     63 years, 72 days\n",
       "32    68 years, 257 days\n",
       "33     70 years, 98 days\n",
       "34    46 years, 177 days\n",
       "35    60 years, 146 days\n",
       "36    61 years, 212 days\n",
       "37    63 years, 190 days\n",
       "38    56 years, 111 days\n",
       "39    77 years, 349 days\n",
       "40    68 years, 222 days\n",
       "41    54 years, 154 days\n",
       "42    62 years, 198 days\n",
       "43    55 years, 169 days\n",
       "44    74 years, 220 days\n",
       "45           (incumbent)\n",
       "Name: end of presidency, dtype: object"
      ]
     },
     "execution_count": 11,
     "metadata": {},
     "output_type": "execute_result"
    }
   ],
   "source": [
    "# Viewing the end of presidency column\n",
    "potus_df['end of presidency']"
   ]
  },
  {
   "cell_type": "markdown",
   "id": "618c4d31",
   "metadata": {},
   "source": [
    "## Post-presidency "
   ]
  },
  {
   "cell_type": "code",
   "execution_count": 12,
   "id": "a57bf4b9",
   "metadata": {},
   "outputs": [
    {
     "data": {
      "text/plain": [
       "0         2 years, 285 days\n",
       "1        25 years, 122 days\n",
       "2        17 years, 122 days\n",
       "3        19 years, 116 days\n",
       "4         6 years, 122 days\n",
       "5        18 years, 356 days\n",
       "6          8 years, 96 days\n",
       "7        21 years, 142 days\n",
       "8                 0 days[b]\n",
       "9        16 years, 320 days\n",
       "10                 103 days\n",
       "11                0 days[b]\n",
       "12         21 years, 4 days\n",
       "13       12 years, 218 days\n",
       "14         7 years, 89 days\n",
       "15                0 days[b]\n",
       "16        6 years, 149 days\n",
       "17        8 years, 141 days\n",
       "18       11 years, 319 days\n",
       "19                0 days[b]\n",
       "20         1 year, 259 days\n",
       "21       4 years, 0 days[c]\n",
       "22          8 years, 9 days\n",
       "23    11 years, 112 days[d]\n",
       "24                0 days[b]\n",
       "25        9 years, 308 days\n",
       "26         17 years, 4 days\n",
       "27        2 years, 336 days\n",
       "28                0 days[b]\n",
       "29        3 years, 307 days\n",
       "30       31 years, 230 days\n",
       "31                0 days[b]\n",
       "32       19 years, 341 days\n",
       "33         8 years, 67 days\n",
       "34                0 days[b]\n",
       "35          4 years, 2 days\n",
       "36       19 years, 256 days\n",
       "37       29 years, 340 days\n",
       "38       42 years, 244 days\n",
       "39       15 years, 137 days\n",
       "40       25 years, 314 days\n",
       "41       22 years, 244 days\n",
       "42       14 years, 244 days\n",
       "43        6 years, 244 days\n",
       "44        2 years, 244 days\n",
       "45              (incumbent)\n",
       "Name: Post-presidency, dtype: object"
      ]
     },
     "execution_count": 12,
     "metadata": {},
     "output_type": "execute_result"
    }
   ],
   "source": [
    "# Post-presidency column\n",
    "potus_df['Post-presidency']"
   ]
  },
  {
   "cell_type": "markdown",
   "id": "4121bf9f",
   "metadata": {},
   "source": [
    "## Died"
   ]
  },
  {
   "cell_type": "code",
   "execution_count": 13,
   "id": "163d138b",
   "metadata": {},
   "outputs": [
    {
     "data": {
      "text/plain": [
       "array(['Dec 14, 1799', 'Jul 4, 1826', 'Jul 4, 1826', 'Jun 28, 1836',\n",
       "       'Jul 4, 1831', 'Feb 23, 1848', 'Jun 8, 1845', 'Jul 24, 1862',\n",
       "       'Apr 4, 1841', 'Jan 18, 1862', 'Jun 15, 1849', 'Jul 9, 1850',\n",
       "       'Mar 8, 1874', 'Oct 8, 1869', 'Jun 1, 1868', 'Apr 15, 1865',\n",
       "       'Jul 31, 1875', 'Jul 23, 1885', 'Jan 17, 1893', 'Sep 19, 1881',\n",
       "       'Nov 18, 1886', '24-Jun-08', '13-Mar-01', '24-Jun-08', '14-Sep-01',\n",
       "       '6-Jan-19', '8-Mar-30', '3-Feb-24', '2-Aug-23', '5-Jan-33',\n",
       "       '20-Oct-64', '12-Apr-45', '26-Dec-72', '28-Mar-69', '22-Nov-63',\n",
       "       '22-Jan-73', '22-Apr-94', '26-Dec-06', '(living)', '5-Jun-04',\n",
       "       '30-Nov-18', '(living)', '(living)', '(living)', '(living)',\n",
       "       '(living)'], dtype=object)"
      ]
     },
     "execution_count": 13,
     "metadata": {},
     "output_type": "execute_result"
    }
   ],
   "source": [
    "# Showing the years the president died\n",
    "np.array(potus_df['Died'])"
   ]
  },
  {
   "cell_type": "markdown",
   "id": "d78475a2",
   "metadata": {},
   "source": [
    "## Age"
   ]
  },
  {
   "cell_type": "code",
   "execution_count": 14,
   "id": "335988c5",
   "metadata": {},
   "outputs": [
    {
     "data": {
      "text/plain": [
       "0     67 years, 295 days\n",
       "1     90 years, 247 days\n",
       "2      83 years, 82 days\n",
       "3     85 years, 104 days\n",
       "4      73 years, 67 days\n",
       "5     80 years, 227 days\n",
       "6      78 years, 85 days\n",
       "7     79 years, 231 days\n",
       "8      68 years, 54 days\n",
       "9     71 years, 295 days\n",
       "10    53 years, 225 days\n",
       "11    65 years, 227 days\n",
       "12     74 years, 60 days\n",
       "13    64 years, 319 days\n",
       "14     77 years, 39 days\n",
       "15     56 years, 62 days\n",
       "16    66 years, 214 days\n",
       "17     63 years, 87 days\n",
       "18    70 years, 105 days\n",
       "19    49 years, 304 days\n",
       "20     57 years, 44 days\n",
       "21     71 years, 98 days\n",
       "22    67 years, 205 days\n",
       "23     71 years, 98 days\n",
       "24    58 years, 228 days\n",
       "25     60 years, 71 days\n",
       "26    72 years, 174 days\n",
       "27     67 years, 37 days\n",
       "28    57 years, 273 days\n",
       "29    60 years, 185 days\n",
       "30     90 years, 71 days\n",
       "31     63 years, 72 days\n",
       "32    88 years, 232 days\n",
       "33    78 years, 165 days\n",
       "34    46 years, 177 days\n",
       "35    64 years, 148 days\n",
       "36    81 years, 103 days\n",
       "37    93 years, 165 days\n",
       "38    98 years, 355 days\n",
       "39    93 years, 120 days\n",
       "40    94 years, 171 days\n",
       "41     77 years, 33 days\n",
       "42     77 years, 77 days\n",
       "43     62 years, 48 days\n",
       "44     77 years, 99 days\n",
       "45    80 years, 305 days\n",
       "Name: Age, dtype: object"
      ]
     },
     "execution_count": 14,
     "metadata": {},
     "output_type": "execute_result"
    }
   ],
   "source": [
    "# viewing the age column\n",
    "potus_df['Age']"
   ]
  },
  {
   "cell_type": "markdown",
   "id": "da430efd",
   "metadata": {},
   "source": [
    "## viewing the Net worth column"
   ]
  },
  {
   "cell_type": "code",
   "execution_count": 15,
   "id": "e2ee8efe",
   "metadata": {},
   "outputs": [
    {
     "data": {
      "text/plain": [
       "array(['707', '25', '284', '136', '36', '27', '159', '34', '7', '68',\n",
       "       '13', '8', '5', '2', '<1', '<1', '<1', '<1', '3', '<1', '<1', '33',\n",
       "       '7', '33', '1', '168', '3', '<1', '1', '<1', '100', '79', '<1',\n",
       "       '10', '99', '131', '20', '9', '9', '16', '31', '90', '47', '48',\n",
       "       '3,000', '10'], dtype=object)"
      ]
     },
     "execution_count": 15,
     "metadata": {},
     "output_type": "execute_result"
    }
   ],
   "source": [
    "# Viewing the Net worth column\n",
    "np.array(potus_df['Net worth((millions of 2022 US$))'])"
   ]
  },
  {
   "cell_type": "markdown",
   "id": "8311c98b",
   "metadata": {},
   "source": [
    "## Political Party"
   ]
  },
  {
   "cell_type": "code",
   "execution_count": 16,
   "id": "cc054d69",
   "metadata": {},
   "outputs": [
    {
     "data": {
      "image/png": "[encoded data removed]",
      "text/plain": [
       "<Figure size 432x288 with 1 Axes>"
      ]
     },
     "metadata": {
      "needs_background": "light"
     },
     "output_type": "display_data"
    }
   ],
   "source": [
    "# viewing the political parties that the presidents belong to\n",
    "political_party = potus_df['Political party[11]']\n",
    "political_party.value_counts().plot(kind = 'bar')\n",
    "plt.title('A plot of the political parties that each president belongs to')\n",
    "plt.xlabel('Politcal Party')\n",
    "plt.ylabel('Number of presidents')\n",
    "plt.show()"
   ]
  },
  {
   "cell_type": "markdown",
   "id": "6e38f672",
   "metadata": {},
   "source": [
    "18 of the total presidents belong to the republican. This represents most of the presidents. The next political party that is the Democratic party. Which produced 16 presidents."
   ]
  },
  {
   "cell_type": "markdown",
   "id": "463cbfb7",
   "metadata": {},
   "source": [
    "## Years in Office"
   ]
  },
  {
   "cell_type": "code",
   "execution_count": 17,
   "id": "439d80c4",
   "metadata": {},
   "outputs": [
    {
     "data": {
      "text/plain": [
       "array(['1789–1797', '1797–1801', '1801–1809', '1809–1817', '1817–1825',\n",
       "       '1825–1829', '1829–1837', '1837–1841', '1841', '1841–1845',\n",
       "       '1845–1849', '1849–1850', '1850–1853', '1853–1857', '1857–1861',\n",
       "       '1861–1865', '1865–1869', '1869–1877', '1877–1881', '1881',\n",
       "       '1881–1885', '1885–1889', '1889–1893', '1885–1889', '1897–1901',\n",
       "       '1901-1909', '1909–1913', '1913–1921', '1921–1923', '1923–1929',\n",
       "       '1929–1933', '1933–1945', '1945–1953', '1953–1961', '1961–1963',\n",
       "       '1963–1969', '1969–1974', '1974–1977', '1977–1981', '1981–1989',\n",
       "       '1989–1993', '1993–2001', '2001–2009', '2009–2017', '2017–2021',\n",
       "       '2021–present'], dtype=object)"
      ]
     },
     "execution_count": 17,
     "metadata": {},
     "output_type": "execute_result"
    }
   ],
   "source": [
    "# Viewing the years in office column\n",
    "np.array(potus_df['Years in office'])"
   ]
  },
  {
   "cell_type": "markdown",
   "id": "fcaa000c",
   "metadata": {},
   "source": [
    "It can be seen that, the maximum number of years that each president can be in the office is 8 years. Hence, every president can serve up to a maximum of 2 terms. A term lasts for four years after which there is election. Presidents who did not serve fully up to the right time that their tenure ended died while in office."
   ]
  },
  {
   "cell_type": "markdown",
   "id": "50af2768",
   "metadata": {},
   "source": [
    "## IQ"
   ]
  },
  {
   "cell_type": "code",
   "execution_count": 18,
   "id": "9be491bd",
   "metadata": {},
   "outputs": [
    {
     "data": {
      "text/plain": [
       "array(['132.5', '155', '160', '155', '120-130', '168-175', '103-132',\n",
       "       '125', nan, nan, '140', nan, '130-135', '147', '129-131',\n",
       "       '128-148', nan, '120-130', '152', '148', '137-148', '148', '140',\n",
       "       nan, '135-150', '149', '126', '132', '120-130', '121-140', '130',\n",
       "       '142', '132', '122', '174', '126', '155', '121', '175', '105',\n",
       "       '98', '182', '91', '140', '156', '115'], dtype=object)"
      ]
     },
     "execution_count": 18,
     "metadata": {},
     "output_type": "execute_result"
    }
   ],
   "source": [
    "# Viewing the IQ column\n",
    "np.array(potus_df['IQ'])"
   ]
  },
  {
   "cell_type": "code",
   "execution_count": 19,
   "id": "809965bd",
   "metadata": {},
   "outputs": [],
   "source": [
    "# replacing all values that appear in a form of a range with their mean values\n",
    "iq_dict = {'120-130':'125', '168-175':'171.5', '103-132':'117.5', '130-135':'132.5', '129-131':'130', '128-148':'138','120-138':'125',  '137-148':'142.5', '135-150':'142.5', '120-130':'125', '121-140':'130.5'}\n",
    "potus_df['IQ'] = potus_df['IQ'].replace(iq_dict)\n"
   ]
  },
  {
   "cell_type": "code",
   "execution_count": 20,
   "id": "9d4d3d66",
   "metadata": {},
   "outputs": [],
   "source": [
    "# converting the IQ column to an integer column and replacing null values with the mean value\n",
    "potus_df['IQ'] = potus_df['IQ'].astype(float)\n",
    "potus_df['IQ'] = potus_df['IQ'].fillna(potus_df['IQ'].mean())"
   ]
  },
  {
   "cell_type": "code",
   "execution_count": 21,
   "id": "125bdbf7",
   "metadata": {
    "scrolled": true
   },
   "outputs": [
    {
     "data": {
      "image/png": "[encoded data removed]",
      "text/plain": [
       "<Figure size 432x288 with 1 Axes>"
      ]
     },
     "metadata": {
      "needs_background": "light"
     },
     "output_type": "display_data"
    }
   ],
   "source": [
    "# Plotting a histogram for the IQ column\n",
    "sns.histplot(potus_df['IQ'], bins = 10)\n",
    "plt.title('A graph of the IQ values of all presidents')\n",
    "plt.xlabel('IQ value')\n",
    "plt.ylabel('Number of presidents')\n",
    "plt.show()"
   ]
  },
  {
   "cell_type": "markdown",
   "id": "acc03fc7",
   "metadata": {},
   "source": [
    "The IQ plot appears to be normally distributed."
   ]
  },
  {
   "cell_type": "markdown",
   "id": "16ac5a23",
   "metadata": {},
   "source": [
    "## Height "
   ]
  },
  {
   "cell_type": "code",
   "execution_count": 22,
   "id": "dcb66628",
   "metadata": {},
   "outputs": [
    {
     "data": {
      "text/plain": [
       "179.7826086956522"
      ]
     },
     "execution_count": 22,
     "metadata": {},
     "output_type": "execute_result"
    }
   ],
   "source": [
    "# Mean of the heights\n",
    "potus_df['Height (cm)'].mean()"
   ]
  },
  {
   "cell_type": "code",
   "execution_count": 23,
   "id": "753b3280",
   "metadata": {
    "scrolled": false
   },
   "outputs": [
    {
     "data": {
      "image/png": "[encoded data removed]",
      "text/plain": [
       "<Figure size 432x288 with 1 Axes>"
      ]
     },
     "metadata": {
      "needs_background": "light"
     },
     "output_type": "display_data"
    }
   ],
   "source": [
    "# Plotting a histogram for the Height column\n",
    "plt.hist(potus_df['Height (cm)'], bins= 10)\n",
    "plt.title(' A plot of the height of the presidents')\n",
    "plt.xlabel('Height value')\n",
    "plt.ylabel('Number of presidents')\n",
    "plt.xticks(rotation=90)\n",
    "plt.show()"
   ]
  },
  {
   "cell_type": "markdown",
   "id": "c1f6f6dd",
   "metadata": {},
   "source": [
    "The plot appears to be left skewed. This means that, most of the presidents have their heights to be greater than 180cm."
   ]
  },
  {
   "cell_type": "markdown",
   "id": "c3d2523d",
   "metadata": {},
   "source": [
    "## Weight"
   ]
  },
  {
   "cell_type": "code",
   "execution_count": 24,
   "id": "791a110a",
   "metadata": {},
   "outputs": [
    {
     "data": {
      "text/plain": [
       "188.97826086956522"
      ]
     },
     "execution_count": 24,
     "metadata": {},
     "output_type": "execute_result"
    }
   ],
   "source": [
    "# Mean value of the weight\n",
    "potus_df['Weight (lbs)'].mean()"
   ]
  },
  {
   "cell_type": "code",
   "execution_count": 25,
   "id": "021efc16",
   "metadata": {},
   "outputs": [
    {
     "data": {
      "image/png": "[encoded data removed]",
      "text/plain": [
       "<Figure size 432x288 with 1 Axes>"
      ]
     },
     "metadata": {
      "needs_background": "light"
     },
     "output_type": "display_data"
    }
   ],
   "source": [
    "# Plotting a histogram for the Height column\n",
    "plt.hist(potus_df['Weight (lbs)'], bins= 10)\n",
    "plt.title(' A plot of the weight of the presidents')\n",
    "plt.xlabel('Weight value')\n",
    "plt.ylabel('Number of presidents')\n",
    "plt.xticks(rotation=90)\n",
    "plt.show()"
   ]
  },
  {
   "cell_type": "markdown",
   "id": "5bd61629",
   "metadata": {},
   "source": [
    "The data appears to be left skewed. Hence, most presidents had their weight to be less than the mean value(188.98 Ibs)"
   ]
  },
  {
   "cell_type": "markdown",
   "id": "eb6d220e",
   "metadata": {},
   "source": [
    "## Number of kids"
   ]
  },
  {
   "cell_type": "code",
   "execution_count": 26,
   "id": "9ab66d1f",
   "metadata": {},
   "outputs": [
    {
     "data": {
      "text/plain": [
       "array([ 0,  5,  6,  0,  3,  4,  3,  5, 10, 15,  0,  6,  2,  3,  0,  4,  5,\n",
       "        4,  8,  7,  3,  5,  2,  5,  2,  6,  3,  3,  0,  2,  2,  6,  1,  2,\n",
       "        4,  2,  2,  4,  4,  5,  6,  1,  2,  2,  5,  4], dtype=int64)"
      ]
     },
     "execution_count": 26,
     "metadata": {},
     "output_type": "execute_result"
    }
   ],
   "source": [
    "# Number of kids each president had\n",
    "np.array(potus_df['Number of kids'])"
   ]
  },
  {
   "cell_type": "markdown",
   "id": "8eb5ebe3",
   "metadata": {},
   "source": [
    "The minimum number of kids that a president had is 0 and the maximum number of kids is 15."
   ]
  },
  {
   "cell_type": "markdown",
   "id": "aac0c427",
   "metadata": {},
   "source": [
    "## Number of marriages"
   ]
  },
  {
   "cell_type": "code",
   "execution_count": 27,
   "id": "a4e6b72e",
   "metadata": {},
   "outputs": [
    {
     "data": {
      "text/plain": [
       "array([1, 1, 1, 1, 1, 1, 1, 1, 1, 2, 1, 1, 1, 1, 1, 1, 1, 1, 1, 1, 1, 2,\n",
       "       1, 2, 1, 2, 1, 2, 1, 1, 1, 1, 1, 1, 1, 1, 1, 1, 1, 2, 1, 1, 1, 1,\n",
       "       3, 2], dtype=int64)"
      ]
     },
     "execution_count": 27,
     "metadata": {},
     "output_type": "execute_result"
    }
   ],
   "source": [
    "# Number of marriages a president got into\n",
    "np.array(potus_df['Number of marriages'])"
   ]
  },
  {
   "cell_type": "markdown",
   "id": "1fadca8f",
   "metadata": {},
   "source": [
    "The minimum number of marriages that a president got involved in is 1 and the maximum is 3."
   ]
  },
  {
   "cell_type": "markdown",
   "id": "193eff11",
   "metadata": {},
   "source": [
    "## State"
   ]
  },
  {
   "cell_type": "code",
   "execution_count": 28,
   "id": "62f0d046",
   "metadata": {},
   "outputs": [
    {
     "data": {
      "text/plain": [
       "Text(0, 0.5, 'Number of presidents')"
      ]
     },
     "execution_count": 28,
     "metadata": {},
     "output_type": "execute_result"
    },
    {
     "data": {
      "image/png": "[encoded data removed]",
      "text/plain": [
       "<Figure size 432x288 with 1 Axes>"
      ]
     },
     "metadata": {
      "needs_background": "light"
     },
     "output_type": "display_data"
    }
   ],
   "source": [
    "# states that each president belongs to\n",
    "potus_df['State'].value_counts().plot(kind= 'bar')\n",
    "plt.title('A plot showing the states that and the corresponding number of presidents from there')\n",
    "plt.xlabel('States')\n",
    "plt.ylabel('Number of presidents')"
   ]
  },
  {
   "cell_type": "markdown",
   "id": "ae5907f8",
   "metadata": {},
   "source": [
    "It can be seen from the plot that, most presidents are from Virginia and New York."
   ]
  },
  {
   "cell_type": "markdown",
   "id": "1f537ba8",
   "metadata": {},
   "source": [
    "## Ethnic origin"
   ]
  },
  {
   "cell_type": "code",
   "execution_count": 29,
   "id": "f24ac275",
   "metadata": {},
   "outputs": [
    {
     "data": {
      "image/png": "[encoded data removed]",
      "text/plain": [
       "<Figure size 432x288 with 1 Axes>"
      ]
     },
     "metadata": {
      "needs_background": "light"
     },
     "output_type": "display_data"
    }
   ],
   "source": [
    "# A plot of the ethnic origins of the presidents\n",
    "potus_df['Ethnic Origin'].value_counts().plot(kind='bar')\n",
    "plt.title('A plot of the Ethnic Origins of the presidents')\n",
    "plt.xlabel('Ethnic Origin')\n",
    "plt.ylabel('Number of Presidents')\n",
    "plt.show()"
   ]
  },
  {
   "cell_type": "markdown",
   "id": "d1df8f26",
   "metadata": {},
   "source": [
    "Most of the presidents were half Scottish, English and English, Scottish, Irish"
   ]
  },
  {
   "cell_type": "markdown",
   "id": "a46dcccf",
   "metadata": {},
   "source": [
    "## Religion"
   ]
  },
  {
   "cell_type": "code",
   "execution_count": 30,
   "id": "2d1737f8",
   "metadata": {},
   "outputs": [
    {
     "data": {
      "image/png": "[encoded data removed]",
      "text/plain": [
       "<Figure size 432x288 with 1 Axes>"
      ]
     },
     "metadata": {
      "needs_background": "light"
     },
     "output_type": "display_data"
    }
   ],
   "source": [
    "# A plot of the Religion of the presidents\n",
    "potus_df['Religion(s)'].value_counts().plot(kind='bar')\n",
    "plt.title('A plot of the Religion of the presidents')\n",
    "plt.xlabel('Religion')\n",
    "plt.ylabel('Number of Presidents')\n",
    "plt.show()"
   ]
  },
  {
   "cell_type": "markdown",
   "id": "f20548de",
   "metadata": {},
   "source": [
    "Most of the presidents were Episcopalians"
   ]
  },
  {
   "cell_type": "markdown",
   "id": "c26a8fe0",
   "metadata": {},
   "source": [
    "## % of Budget Allocated to Defense"
   ]
  },
  {
   "cell_type": "code",
   "execution_count": 31,
   "id": "b5217307",
   "metadata": {},
   "outputs": [
    {
     "data": {
      "text/plain": [
       "array([nan, nan, '8.60%', '67.10%', nan, nan, '68.20%', nan, nan,\n",
       "       '54.50%', nan, nan, nan, '62.40%', '65.80%', '81.40%', nan,\n",
       "       '63.10%', '43.30%', nan, '47.50%', '38.30%', '58.10%', '38.30%',\n",
       "       '72.50%', nan, nan, '85.20%', nan, nan, '17.30%',\n",
       "       '61.5%, 89.7% (WWII)', '80.50%', '48.3%, 58.0% (Cold War peak)',\n",
       "       '49.00%', '42.0%, 47.4% (Vietnam War peak)', '26.50%', '20.40%',\n",
       "       '23.60%', '27.3%, 30.1% (Cold War peak)',\n",
       "       '22.7%, 27.9% (Gulf War peak)', '17.1%, 18.4% (Cold War end)',\n",
       "       '18.9%, 22.2% (War on Terror peak)',\n",
       "       '22.9%, 24.5% (Afghanistan peak)', '21.60%', 'TBD'], dtype=object)"
      ]
     },
     "execution_count": 31,
     "metadata": {},
     "output_type": "execute_result"
    }
   ],
   "source": [
    "# viewing the % of budget each president allocated to Defense \n",
    "P_budget = potus_df['% of Budget Allocated to Defense']\n",
    "np.array(P_budget)"
   ]
  },
  {
   "cell_type": "code",
   "execution_count": 32,
   "id": "2913cc46",
   "metadata": {},
   "outputs": [],
   "source": [
    "# creating a list of values of the \"% of budget allocated to defense column\"\n",
    "budget = [0, 0, 8.6, 67.10, 0, 0, 68.20, 0, 0, 54.50, 0, 0, 0, 62.40, 65.80, 81.40, 0, 63.10, 43.30, 0, 47.50, 38.30, 58.10,\n",
    "        38.30, 72.5, 0, 0, 85.20, 0, 0, 17.30, 151.2, 80.5, 106.3, 49, 89.4, 26.50, 20.40, 23.6, 57.4,\n",
    "        50.6, 35.5, 41.1, 47.4, 21.6, 0]\n",
    "# creating a new column called budget\n",
    "potus_df['% of budget Allocated to Defense '] = budget\n",
    "# dropping the \"% of budget allocated to defense column\"\n",
    "potus_df.drop('% of Budget Allocated to Defense', axis=1, inplace=True)"
   ]
  },
  {
   "cell_type": "markdown",
   "id": "9774b111",
   "metadata": {},
   "source": [
    "## Wars during tenure"
   ]
  },
  {
   "cell_type": "code",
   "execution_count": 33,
   "id": "8c3e03a5",
   "metadata": {},
   "outputs": [
    {
     "data": {
      "image/png": "[encoded data removed]",
      "text/plain": [
       "<Figure size 432x288 with 1 Axes>"
      ]
     },
     "metadata": {
      "needs_background": "light"
     },
     "output_type": "display_data"
    }
   ],
   "source": [
    "# A plot of the number of wars that occurred during each president's tenure\n",
    "potus_df['Wars During Tenure'].value_counts().plot(kind='bar')\n",
    "plt.title('A plot of the Wars that occurred during each president tenure')\n",
    "plt.xlabel('War Name')\n",
    "plt.ylabel('Frequency')\n",
    "plt.show()"
   ]
  },
  {
   "cell_type": "markdown",
   "id": "babce051",
   "metadata": {},
   "source": [
    "## Education"
   ]
  },
  {
   "cell_type": "code",
   "execution_count": 34,
   "id": "fe626e83",
   "metadata": {},
   "outputs": [
    {
     "data": {
      "text/plain": [
       "No formal education                                                                                                                           7\n",
       "Harvard College (graduated in 1755)                                                                                                           1\n",
       "Ohio Central College (did not graduate)                                                                                                       1\n",
       "Amherst College (graduated in 1895)                                                                                                           1\n",
       "Stanford University (graduated in 1895)                                                                                                       1\n",
       "Harvard College (graduated in 1903)                                                                                                           1\n",
       "University of Missouri–Kansas City Law School (did not graduate)                                                                              1\n",
       "United States Military Academy (graduated in 1915)                                                                                            1\n",
       "Harvard College (graduated in 1940)                                                                                                           1\n",
       "Southwest Texas State Teachers College (did not graduate)                                                                                     1\n",
       "Whittier College (graduated in 1934)                                                                                                          1\n",
       "University of Michigan (graduated in 1935)                                                                                                    1\n",
       "United States Naval Academy (graduated in 1946)                                                                                               1\n",
       "Eureka College (did not graduate)                                                                                                             1\n",
       "Yale University (graduated in 1948)                                                                                                           1\n",
       "Georgetown University (attended in 1964), University of Oxford (attended in 1968 as a Rhodes Scholar), Yale Law School (graduated in 1973)    1\n",
       "Yale University (graduated in 1968), Harvard Business School (graduated in 1975)                                                              1\n",
       "Occidental College (attended from 1979 to 1981), Columbia University (graduated in 1983), Harvard Law School (graduated in 1991)              1\n",
       "Fordham University (attended from 1964 to 1966), Wharton School of the University of Pennsylvania (graduated in 1968)                         1\n",
       "Princeton University (graduated in 1879)                                                                                                      1\n",
       "Yale College (graduated in 1878)                                                                                                              1\n",
       "Harvard College (graduated in 1880)                                                                                                           1\n",
       "University of North Carolina at Chapel Hill (graduated in 1818)                                                                               1\n",
       "The College of William & Mary (graduated in 1762)                                                                                             1\n",
       "The College of New Jersey (now Princeton University)                                                                                          1\n",
       "The College of William & Mary (did not graduate)                                                                                              1\n",
       "Harvard College (graduated in 1787)                                                                                                           1\n",
       "Kinderhook Academy (did not graduate)                                                                                                         1\n",
       "University of Pennsylvania (did not graduate)                                                                                                 1\n",
       "The College of William & Mary (graduated in 1807)                                                                                             1\n",
       "Bowdoin College (graduated in 1824)                                                                                                           1\n",
       "Allegheny College (did not graduate)                                                                                                          1\n",
       "Dickinson College (graduated in 1809)                                                                                                         1\n",
       "No formal education; apprenticed as a lawyer                                                                                                  1\n",
       "United States Military Academy (graduated in 1843)                                                                                            1\n",
       "Kenyon College (graduated in 1842)                                                                                                            1\n",
       "Williams College (graduated in 1856)                                                                                                          1\n",
       "Union College (graduated in 1848)                                                                                                             1\n",
       "Miami University (graduated in 1852)                                                                                                          1\n",
       "University of Delaware (graduated in 1965), Syracuse University College of Law (graduated in 1968)                                            1\n",
       "Name: Education, dtype: int64"
      ]
     },
     "execution_count": 34,
     "metadata": {},
     "output_type": "execute_result"
    }
   ],
   "source": [
    "# viewing the number of different types of education each president was into\n",
    "education = potus_df['Education'].value_counts()\n",
    "education"
   ]
  },
  {
   "cell_type": "markdown",
   "id": "d2a8506d",
   "metadata": {},
   "source": [
    "7 of the presidents had no formal education"
   ]
  },
  {
   "cell_type": "markdown",
   "id": "b8b391fa",
   "metadata": {},
   "source": [
    "## Degree"
   ]
  },
  {
   "cell_type": "code",
   "execution_count": 35,
   "id": "c285fa85",
   "metadata": {},
   "outputs": [
    {
     "data": {
      "image/png": "[encoded data removed]",
      "text/plain": [
       "<Figure size 432x288 with 1 Axes>"
      ]
     },
     "metadata": {
      "needs_background": "light"
     },
     "output_type": "display_data"
    }
   ],
   "source": [
    "# replacing null values in the degree column with 'none'\n",
    "potus_df['Degree'] = potus_df['Degree'].fillna('None')\n",
    "potus_df['Degree'].value_counts().plot(kind='bar')\n",
    "plt.title('A plot of Degree title against the number of presidents that had it')\n",
    "plt.xlabel('Degree Name')\n",
    "plt.ylabel('Frequency')\n",
    "plt.show()"
   ]
  },
  {
   "cell_type": "markdown",
   "id": "e6309d7a",
   "metadata": {},
   "source": [
    "16 of the presidents had no degree. This includes the number of presidents who had no formal education to the ones that did not graduate from college."
   ]
  },
  {
   "cell_type": "code",
   "execution_count": 36,
   "id": "7b5bec90",
   "metadata": {},
   "outputs": [
    {
     "data": {
      "text/html": [
       "<div>\n",
       "<style scoped>\n",
       "    .dataframe tbody tr th:only-of-type {\n",
       "        vertical-align: middle;\n",
       "    }\n",
       "\n",
       "    .dataframe tbody tr th {\n",
       "        vertical-align: top;\n",
       "    }\n",
       "\n",
       "    .dataframe thead th {\n",
       "        text-align: right;\n",
       "    }\n",
       "</style>\n",
       "<table border=\"1\" class=\"dataframe\">\n",
       "  <thead>\n",
       "    <tr style=\"text-align: right;\">\n",
       "      <th></th>\n",
       "      <th>No.</th>\n",
       "      <th>IQ</th>\n",
       "      <th>Height (cm)</th>\n",
       "      <th>Weight (lbs)</th>\n",
       "      <th>Number of kids</th>\n",
       "      <th>Number of marriages</th>\n",
       "      <th>% of budget Allocated to Defense</th>\n",
       "    </tr>\n",
       "  </thead>\n",
       "  <tbody>\n",
       "    <tr>\n",
       "      <th>No.</th>\n",
       "      <td>1.000000</td>\n",
       "      <td>-0.166947</td>\n",
       "      <td>0.351833</td>\n",
       "      <td>0.340212</td>\n",
       "      <td>-0.151001</td>\n",
       "      <td>0.272206</td>\n",
       "      <td>0.248623</td>\n",
       "    </tr>\n",
       "    <tr>\n",
       "      <th>IQ</th>\n",
       "      <td>-0.166947</td>\n",
       "      <td>1.000000</td>\n",
       "      <td>-0.162249</td>\n",
       "      <td>-0.081784</td>\n",
       "      <td>0.072605</td>\n",
       "      <td>-0.011098</td>\n",
       "      <td>-0.112779</td>\n",
       "    </tr>\n",
       "    <tr>\n",
       "      <th>Height (cm)</th>\n",
       "      <td>0.351833</td>\n",
       "      <td>-0.162249</td>\n",
       "      <td>1.000000</td>\n",
       "      <td>0.410851</td>\n",
       "      <td>0.045448</td>\n",
       "      <td>0.190474</td>\n",
       "      <td>0.190452</td>\n",
       "    </tr>\n",
       "    <tr>\n",
       "      <th>Weight (lbs)</th>\n",
       "      <td>0.340212</td>\n",
       "      <td>-0.081784</td>\n",
       "      <td>0.410851</td>\n",
       "      <td>1.000000</td>\n",
       "      <td>0.045893</td>\n",
       "      <td>0.265602</td>\n",
       "      <td>-0.093241</td>\n",
       "    </tr>\n",
       "    <tr>\n",
       "      <th>Number of kids</th>\n",
       "      <td>-0.151001</td>\n",
       "      <td>0.072605</td>\n",
       "      <td>0.045448</td>\n",
       "      <td>0.045893</td>\n",
       "      <td>1.000000</td>\n",
       "      <td>0.336620</td>\n",
       "      <td>-0.069183</td>\n",
       "    </tr>\n",
       "    <tr>\n",
       "      <th>Number of marriages</th>\n",
       "      <td>0.272206</td>\n",
       "      <td>-0.011098</td>\n",
       "      <td>0.190474</td>\n",
       "      <td>0.265602</td>\n",
       "      <td>0.336620</td>\n",
       "      <td>1.000000</td>\n",
       "      <td>-0.014035</td>\n",
       "    </tr>\n",
       "    <tr>\n",
       "      <th>% of budget Allocated to Defense</th>\n",
       "      <td>0.248623</td>\n",
       "      <td>-0.112779</td>\n",
       "      <td>0.190452</td>\n",
       "      <td>-0.093241</td>\n",
       "      <td>-0.069183</td>\n",
       "      <td>-0.014035</td>\n",
       "      <td>1.000000</td>\n",
       "    </tr>\n",
       "  </tbody>\n",
       "</table>\n",
       "</div>"
      ],
      "text/plain": [
       "                                        No.        IQ  Height (cm)  \\\n",
       "No.                                1.000000 -0.166947     0.351833   \n",
       "IQ                                -0.166947  1.000000    -0.162249   \n",
       "Height (cm)                        0.351833 -0.162249     1.000000   \n",
       "Weight (lbs)                       0.340212 -0.081784     0.410851   \n",
       "Number of kids                    -0.151001  0.072605     0.045448   \n",
       "Number of marriages                0.272206 -0.011098     0.190474   \n",
       "% of budget Allocated to Defense   0.248623 -0.112779     0.190452   \n",
       "\n",
       "                                   Weight (lbs)  Number of kids  \\\n",
       "No.                                    0.340212       -0.151001   \n",
       "IQ                                    -0.081784        0.072605   \n",
       "Height (cm)                            0.410851        0.045448   \n",
       "Weight (lbs)                           1.000000        0.045893   \n",
       "Number of kids                         0.045893        1.000000   \n",
       "Number of marriages                    0.265602        0.336620   \n",
       "% of budget Allocated to Defense      -0.093241       -0.069183   \n",
       "\n",
       "                                   Number of marriages  \\\n",
       "No.                                           0.272206   \n",
       "IQ                                           -0.011098   \n",
       "Height (cm)                                   0.190474   \n",
       "Weight (lbs)                                  0.265602   \n",
       "Number of kids                                0.336620   \n",
       "Number of marriages                           1.000000   \n",
       "% of budget Allocated to Defense             -0.014035   \n",
       "\n",
       "                                   % of budget Allocated to Defense   \n",
       "No.                                                         0.248623  \n",
       "IQ                                                         -0.112779  \n",
       "Height (cm)                                                 0.190452  \n",
       "Weight (lbs)                                               -0.093241  \n",
       "Number of kids                                             -0.069183  \n",
       "Number of marriages                                        -0.014035  \n",
       "% of budget Allocated to Defense                            1.000000  "
      ]
     },
     "execution_count": 36,
     "metadata": {},
     "output_type": "execute_result"
    }
   ],
   "source": [
    "# viewing correlation between all columns\n",
    "potus_df.corr()"
   ]
  },
  {
   "cell_type": "markdown",
   "id": "f0e9714b",
   "metadata": {},
   "source": [
    "# Multivariate Analysis"
   ]
  },
  {
   "cell_type": "markdown",
   "id": "958de450",
   "metadata": {},
   "source": [
    "## Number of Kids and Marriages columns"
   ]
  },
  {
   "cell_type": "code",
   "execution_count": 37,
   "id": "20c3db67",
   "metadata": {},
   "outputs": [
    {
     "data": {
      "image/png": "[encoded data removed]",
      "text/plain": [
       "<Figure size 432x288 with 1 Axes>"
      ]
     },
     "metadata": {
      "needs_background": "light"
     },
     "output_type": "display_data"
    }
   ],
   "source": [
    "# A plot of the Number of marriages against Number of Kids\n",
    "marr_df = potus_df['Number of marriages']\n",
    "kids_df = potus_df['Number of kids']\n",
    "sns.barplot(data=potus_df, x=marr_df, y=kids_df)\n",
    "plt.title('A plot of the number of marriages against the number of kids')\n",
    "plt.xticks(rotation=90)\n",
    "plt.show()"
   ]
  },
  {
   "cell_type": "markdown",
   "id": "c9b41c8b",
   "metadata": {},
   "source": [
    "From the plot above, it can be seen that, the highest number of times a president married is 3 and the minimum is 1. Also, most presdients who got involved in exactly two marriages have the most kids on average."
   ]
  },
  {
   "cell_type": "code",
   "execution_count": 38,
   "id": "904ecdc0",
   "metadata": {
    "scrolled": true
   },
   "outputs": [
    {
     "data": {
      "text/plain": [
       "No.                                  0\n",
       "President                            0\n",
       "Born                                 0\n",
       "start of presidency                  0\n",
       "end of presidency                    0\n",
       "Post-presidency                      0\n",
       "Died                                 0\n",
       "Age                                  0\n",
       "Net worth((millions of 2022 US$))    0\n",
       "Political party[11]                  0\n",
       "Years in office                      0\n",
       "IQ                                   0\n",
       "Height (ft)                          0\n",
       "Height (cm)                          0\n",
       "Weight (lbs)                         0\n",
       "Number of kids                       0\n",
       "Number of marriages                  0\n",
       "State                                0\n",
       "Ethnic Origin                        0\n",
       "Religion(s)                          0\n",
       "Wars During Tenure                   0\n",
       "Education                            0\n",
       "Degree                               0\n",
       "% of budget Allocated to Defense     0\n",
       "dtype: int64"
      ]
     },
     "execution_count": 38,
     "metadata": {},
     "output_type": "execute_result"
    }
   ],
   "source": [
    "# checking for null values in the data\n",
    "potus_df.isna().sum()"
   ]
  },
  {
   "cell_type": "markdown",
   "id": "a4b41b5f",
   "metadata": {},
   "source": [
    "The data is now free from Null values."
   ]
  },
  {
   "cell_type": "code",
   "execution_count": 39,
   "id": "ff12abdc",
   "metadata": {
    "scrolled": true
   },
   "outputs": [
    {
     "name": "stdout",
     "output_type": "stream",
     "text": [
      "<class 'pandas.core.frame.DataFrame'>\n",
      "RangeIndex: 46 entries, 0 to 45\n",
      "Data columns (total 24 columns):\n",
      " #   Column                             Non-Null Count  Dtype  \n",
      "---  ------                             --------------  -----  \n",
      " 0   No.                                46 non-null     int64  \n",
      " 1   President                          46 non-null     object \n",
      " 2   Born                               46 non-null     object \n",
      " 3   start of presidency                46 non-null     object \n",
      " 4   end of presidency                  46 non-null     object \n",
      " 5   Post-presidency                    46 non-null     object \n",
      " 6   Died                               46 non-null     object \n",
      " 7   Age                                46 non-null     object \n",
      " 8   Net worth((millions of 2022 US$))  46 non-null     object \n",
      " 9   Political party[11]                46 non-null     object \n",
      " 10  Years in office                    46 non-null     object \n",
      " 11  IQ                                 46 non-null     float64\n",
      " 12  Height (ft)                        46 non-null     object \n",
      " 13  Height (cm)                        46 non-null     int64  \n",
      " 14  Weight (lbs)                       46 non-null     int64  \n",
      " 15  Number of kids                     46 non-null     int64  \n",
      " 16  Number of marriages                46 non-null     int64  \n",
      " 17  State                              46 non-null     object \n",
      " 18  Ethnic Origin                      46 non-null     object \n",
      " 19  Religion(s)                        46 non-null     object \n",
      " 20  Wars During Tenure                 46 non-null     object \n",
      " 21  Education                          46 non-null     object \n",
      " 22  Degree                             46 non-null     object \n",
      " 23  % of budget Allocated to Defense   46 non-null     float64\n",
      "dtypes: float64(2), int64(5), object(17)\n",
      "memory usage: 8.8+ KB\n"
     ]
    }
   ],
   "source": [
    "# Obtaining information about the dataset\n",
    "potus_df.info()"
   ]
  }
 ],
 "metadata": {
  "kernelspec": {
   "display_name": "Python 3 (ipykernel)",
   "language": "python",
   "name": "python3"
  },
  "language_info": {
   "codemirror_mode": {
    "name": "ipython",
    "version": 3
   },
   "file_extension": ".py",
   "mimetype": "text/x-python",
   "name": "python",
   "nbconvert_exporter": "python",
   "pygments_lexer": "ipython3",
   "version": "3.9.12"
  }
 },
 "nbformat": 4,
 "nbformat_minor": 5
}
